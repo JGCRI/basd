{
 "cells": [
  {
   "cell_type": "code",
   "execution_count": 3,
   "metadata": {
    "collapsed": true,
    "pycharm": {
     "name": "#%%\n"
    }
   },
   "outputs": [],
   "source": [
    "import timeit\n",
    "import numpy as np\n",
    "import xarray as xr\n",
    "from numba import jit\n",
    "import numpy as np\n",
    "import scipy as sci"
   ]
  },
  {
   "cell_type": "code",
   "execution_count": 4,
   "outputs": [
    {
     "name": "stdout",
     "output_type": "stream",
     "text": [
      "[[  9.  10.  11.  12.  13.  14.  15.  16.  17.  18.]\n",
      " [ 19.  20.  21.  22.  23.  24.  25.  26.  27.  28.]\n",
      " [ 29.  30.  31.  32.  33.  34.  35.  36.  37.  38.]\n",
      " [ 39.  40.  41.  42.  43.  44.  45.  46.  47.  48.]\n",
      " [ 49.  50.  51.  52.  53.  54.  55.  56.  57.  58.]\n",
      " [ 59.  60.  61.  62.  63.  64.  65.  66.  67.  68.]\n",
      " [ 69.  70.  71.  72.  73.  74.  75.  76.  77.  78.]\n",
      " [ 79.  80.  81.  82.  83.  84.  85.  86.  87.  88.]\n",
      " [ 89.  90.  91.  92.  93.  94.  95.  96.  97.  98.]\n",
      " [ 99. 100. 101. 102. 103. 104. 105. 106. 107. 108.]]\n"
     ]
    }
   ],
   "source": [
    "x = np.arange(100).reshape(10, 10)\n",
    "\n",
    "@jit(nopython=True) # Set \"nopython\" mode for best performance, equivalent to @njit\n",
    "def go_fast(a): # Function is compiled to machine code when called the first time\n",
    "    trace = 0.0\n",
    "    for i in range(a.shape[0]):   # Numba likes loops\n",
    "        trace += np.tanh(a[i, i]) # Numba likes NumPy functions\n",
    "    return a + trace              # Numba likes NumPy broadcasting\n",
    "\n",
    "print(go_fast(x))"
   ],
   "metadata": {
    "collapsed": false,
    "pycharm": {
     "name": "#%%\n"
    }
   }
  },
  {
   "cell_type": "code",
   "execution_count": 20,
   "outputs": [],
   "source": [
    "@jit(nopython=True) # Set \"nopython\" mode for best performance, equivalent to @njit\n",
    "def fast_fits(n_iterations):\n",
    "    for i in range(n_iterations):\n",
    "        norm_obs = np.random.normal(0,1,1000)\n",
    "        #mle = sci.stats.norm.fit(norm_obs)\n",
    "\n",
    "def slow_fits(n_iterations):\n",
    "    for i in range(n_iterations):\n",
    "        norm_obs = np.random.normal(0,1,1000)\n",
    "        #mle = sci.stats.norm.fit(norm_obs)"
   ],
   "metadata": {
    "collapsed": false,
    "pycharm": {
     "name": "#%%\n"
    }
   }
  },
  {
   "cell_type": "code",
   "execution_count": 21,
   "outputs": [
    {
     "ename": "TypingError",
     "evalue": "Failed in nopython mode pipeline (step: nopython frontend)\n\u001B[1m\u001B[1mUnknown attribute 'norm' of type Module(<module 'scipy.stats' from 'C:\\\\Users\\\\prim232\\\\virtualenvs\\\\3.9_basd\\\\lib\\\\site-packages\\\\scipy\\\\stats\\\\__init__.py'>)\n\u001B[1m\nFile \"..\\..\\..\\AppData\\Local\\Temp\\ipykernel_11604\\1209804327.py\", line 5:\u001B[0m\n\u001B[1m<source missing, REPL/exec in use?>\u001B[0m\n\u001B[0m\n\u001B[0m\u001B[1mDuring: typing of get attribute at C:\\Users\\prim232\\AppData\\Local\\Temp\\ipykernel_11604\\1209804327.py (5)\u001B[0m\n\u001B[1m\nFile \"..\\..\\..\\AppData\\Local\\Temp\\ipykernel_11604\\1209804327.py\", line 5:\u001B[0m\n\u001B[1m<source missing, REPL/exec in use?>\u001B[0m\n",
     "output_type": "error",
     "traceback": [
      "\u001B[1;31m---------------------------------------------------------------------------\u001B[0m",
      "\u001B[1;31mTypingError\u001B[0m                               Traceback (most recent call last)",
      "Input \u001B[1;32mIn [21]\u001B[0m, in \u001B[0;36m<cell line: 2>\u001B[1;34m()\u001B[0m\n\u001B[0;32m      1\u001B[0m start \u001B[38;5;241m=\u001B[39m timeit\u001B[38;5;241m.\u001B[39mdefault_timer()\n\u001B[1;32m----> 2\u001B[0m \u001B[43mfast_fits\u001B[49m\u001B[43m(\u001B[49m\u001B[38;5;241;43m100\u001B[39;49m\u001B[43m)\u001B[49m\n\u001B[0;32m      3\u001B[0m stop \u001B[38;5;241m=\u001B[39m timeit\u001B[38;5;241m.\u001B[39mdefault_timer()\n\u001B[0;32m      4\u001B[0m \u001B[38;5;28mprint\u001B[39m(\u001B[38;5;124mf\u001B[39m\u001B[38;5;124m'\u001B[39m\u001B[38;5;124mNumba Time: \u001B[39m\u001B[38;5;132;01m{\u001B[39;00mstop\u001B[38;5;241m-\u001B[39mstart\u001B[38;5;132;01m}\u001B[39;00m\u001B[38;5;124m'\u001B[39m)\n",
      "File \u001B[1;32m~\\virtualenvs\\3.9_basd\\lib\\site-packages\\numba\\core\\dispatcher.py:468\u001B[0m, in \u001B[0;36m_DispatcherBase._compile_for_args\u001B[1;34m(self, *args, **kws)\u001B[0m\n\u001B[0;32m    464\u001B[0m         msg \u001B[38;5;241m=\u001B[39m (\u001B[38;5;124mf\u001B[39m\u001B[38;5;124m\"\u001B[39m\u001B[38;5;132;01m{\u001B[39;00m\u001B[38;5;28mstr\u001B[39m(e)\u001B[38;5;241m.\u001B[39mrstrip()\u001B[38;5;132;01m}\u001B[39;00m\u001B[38;5;124m \u001B[39m\u001B[38;5;130;01m\\n\u001B[39;00m\u001B[38;5;130;01m\\n\u001B[39;00m\u001B[38;5;124mThis error may have been caused \u001B[39m\u001B[38;5;124m\"\u001B[39m\n\u001B[0;32m    465\u001B[0m                \u001B[38;5;124mf\u001B[39m\u001B[38;5;124m\"\u001B[39m\u001B[38;5;124mby the following argument(s):\u001B[39m\u001B[38;5;130;01m\\n\u001B[39;00m\u001B[38;5;132;01m{\u001B[39;00margs_str\u001B[38;5;132;01m}\u001B[39;00m\u001B[38;5;130;01m\\n\u001B[39;00m\u001B[38;5;124m\"\u001B[39m)\n\u001B[0;32m    466\u001B[0m         e\u001B[38;5;241m.\u001B[39mpatch_message(msg)\n\u001B[1;32m--> 468\u001B[0m     \u001B[43merror_rewrite\u001B[49m\u001B[43m(\u001B[49m\u001B[43me\u001B[49m\u001B[43m,\u001B[49m\u001B[43m \u001B[49m\u001B[38;5;124;43m'\u001B[39;49m\u001B[38;5;124;43mtyping\u001B[39;49m\u001B[38;5;124;43m'\u001B[39;49m\u001B[43m)\u001B[49m\n\u001B[0;32m    469\u001B[0m \u001B[38;5;28;01mexcept\u001B[39;00m errors\u001B[38;5;241m.\u001B[39mUnsupportedError \u001B[38;5;28;01mas\u001B[39;00m e:\n\u001B[0;32m    470\u001B[0m     \u001B[38;5;66;03m# Something unsupported is present in the user code, add help info\u001B[39;00m\n\u001B[0;32m    471\u001B[0m     error_rewrite(e, \u001B[38;5;124m'\u001B[39m\u001B[38;5;124munsupported_error\u001B[39m\u001B[38;5;124m'\u001B[39m)\n",
      "File \u001B[1;32m~\\virtualenvs\\3.9_basd\\lib\\site-packages\\numba\\core\\dispatcher.py:409\u001B[0m, in \u001B[0;36m_DispatcherBase._compile_for_args.<locals>.error_rewrite\u001B[1;34m(e, issue_type)\u001B[0m\n\u001B[0;32m    407\u001B[0m     \u001B[38;5;28;01mraise\u001B[39;00m e\n\u001B[0;32m    408\u001B[0m \u001B[38;5;28;01melse\u001B[39;00m:\n\u001B[1;32m--> 409\u001B[0m     \u001B[38;5;28;01mraise\u001B[39;00m e\u001B[38;5;241m.\u001B[39mwith_traceback(\u001B[38;5;28;01mNone\u001B[39;00m)\n",
      "\u001B[1;31mTypingError\u001B[0m: Failed in nopython mode pipeline (step: nopython frontend)\n\u001B[1m\u001B[1mUnknown attribute 'norm' of type Module(<module 'scipy.stats' from 'C:\\\\Users\\\\prim232\\\\virtualenvs\\\\3.9_basd\\\\lib\\\\site-packages\\\\scipy\\\\stats\\\\__init__.py'>)\n\u001B[1m\nFile \"..\\..\\..\\AppData\\Local\\Temp\\ipykernel_11604\\1209804327.py\", line 5:\u001B[0m\n\u001B[1m<source missing, REPL/exec in use?>\u001B[0m\n\u001B[0m\n\u001B[0m\u001B[1mDuring: typing of get attribute at C:\\Users\\prim232\\AppData\\Local\\Temp\\ipykernel_11604\\1209804327.py (5)\u001B[0m\n\u001B[1m\nFile \"..\\..\\..\\AppData\\Local\\Temp\\ipykernel_11604\\1209804327.py\", line 5:\u001B[0m\n\u001B[1m<source missing, REPL/exec in use?>\u001B[0m\n"
     ]
    }
   ],
   "source": [
    "start = timeit.default_timer()\n",
    "fast_fits(100)\n",
    "stop = timeit.default_timer()\n",
    "print(f'Numba Time: {stop-start}')\n",
    "\n",
    "start = timeit.default_timer()\n",
    "slow_fits(100)\n",
    "stop = timeit.default_timer()\n",
    "print(f'Python Time: {stop-start}')"
   ],
   "metadata": {
    "collapsed": false,
    "pycharm": {
     "name": "#%%\n"
    }
   }
  }
 ],
 "metadata": {
  "kernelspec": {
   "display_name": "Python 3",
   "language": "python",
   "name": "python3"
  },
  "language_info": {
   "codemirror_mode": {
    "name": "ipython",
    "version": 2
   },
   "file_extension": ".py",
   "mimetype": "text/x-python",
   "name": "python",
   "nbconvert_exporter": "python",
   "pygments_lexer": "ipython2",
   "version": "2.7.6"
  }
 },
 "nbformat": 4,
 "nbformat_minor": 0
}