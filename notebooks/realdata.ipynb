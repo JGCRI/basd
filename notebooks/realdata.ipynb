{
 "cells": [
  {
   "cell_type": "markdown",
   "source": [
    "### Import Needed Packages"
   ],
   "metadata": {
    "collapsed": false
   }
  },
  {
   "cell_type": "code",
   "execution_count": null,
   "metadata": {
    "collapsed": true
   },
   "outputs": [],
   "source": [
    "import os\n",
    "\n",
    "import plotly.express as px\n",
    "import numpy as np\n",
    "import xarray as xr\n",
    "\n",
    "import basd"
   ]
  },
  {
   "cell_type": "markdown",
   "source": [
    "### Root data path"
   ],
   "metadata": {
    "collapsed": false
   }
  },
  {
   "cell_type": "code",
   "execution_count": null,
   "outputs": [],
   "source": [
    "data_path = '../../../OneDrive - PNNL/Documents/BASD/data'"
   ],
   "metadata": {
    "collapsed": false
   }
  },
  {
   "cell_type": "markdown",
   "source": [
    "# Precipitation Data\n",
    "\n",
    "Here we will adjust precipitation output from NCAR's CESM2-WACCM model using observational data from EWEMBI.\n",
    "\n",
    "First we set the paths to our data:"
   ],
   "metadata": {
    "collapsed": false
   }
  },
  {
   "cell_type": "code",
   "execution_count": null,
   "outputs": [],
   "source": [
    "#obs_hist_path = 'pr_day_CESM2-WACCM_historical_r2i1p1f1_gn_20100101-20150101.nc'\n",
    "pr_obs_hist_path = 'EWEMBI/pr_ewembi_2011_2016.nc4'\n",
    "pr_sim_hist_path = 'CMIP6/CESM2-WACCM/pr_day_CESM2-WACCM_historical_r1i1p1f1_gn_20100101-20150101.nc'\n",
    "pr_sim_fut_path = 'CMIP6/CESM2-WACCM/pr_day_CESM2-WACCM_ssp370_r1i1p1f1_gn_20950101-21010101.nc'"
   ],
   "metadata": {
    "collapsed": false
   }
  },
  {
   "cell_type": "markdown",
   "source": [
    "and read in our data using the `xarray` package"
   ],
   "metadata": {
    "collapsed": false
   }
  },
  {
   "cell_type": "code",
   "execution_count": null,
   "outputs": [],
   "source": [
    "pr_obs_hist = xr.open_dataset(os.path.join(data_path, pr_obs_hist_path),\n",
    "                              decode_coords = 'all')\n",
    "pr_sim_hist = xr.open_dataset(os.path.join(data_path, pr_sim_hist_path),\n",
    "                              decode_coords = 'all')\n",
    "pr_sim_fut = xr.open_dataset(os.path.join(data_path, pr_sim_fut_path),\n",
    "                             decode_coords = 'all')"
   ],
   "metadata": {
    "collapsed": false
   }
  },
  {
   "cell_type": "markdown",
   "source": [
    "## Setting parameters and creating Adjustment Object\n",
    "For precipitation, we set the following parameters:\n",
    "\n",
    "* Lower bound: 0\n",
    "* Lower threshold: 0.0000011547\n",
    "* Trend preservation method: 'mixed'\n",
    "* Distribution: 'gamma'\n",
    "* Value to set cells with only invalid values: 0\n",
    "\n",
    "We then create the bias adjustment object with our data, parameters object, and ask to have our data remapped to match in resolution. This is needed in this case as the EWEMBI data is 360x720 (lat x lon), where CESM2-WACCM is 192x288."
   ],
   "metadata": {
    "collapsed": false
   }
  },
  {
   "cell_type": "code",
   "execution_count": null,
   "outputs": [],
   "source": [
    "params = basd.Parameters(lower_bound=0,\n",
    "                         lower_threshold=0.0000011574,\n",
    "                         trend_preservation='mixed',\n",
    "                         distribution='gamma',\n",
    "                         if_all_invalid_use=0)\n"
   ],
   "metadata": {
    "collapsed": false
   }
  },
  {
   "cell_type": "code",
   "execution_count": null,
   "outputs": [],
   "source": [
    "pr_ba = basd.Adjustment(pr_obs_hist,\n",
    "                        pr_sim_hist,\n",
    "                        pr_sim_fut,\n",
    "                        'pr',\n",
    "                        params,\n",
    "                        remap_grid=True)"
   ],
   "metadata": {
    "collapsed": false
   }
  },
  {
   "cell_type": "markdown",
   "source": [
    "# Adjustment at one location\n",
    "Here we ask to perform bias adjustment at the 100th row and 100th column cell position. This happens to correspond to 4.421 degrees latitude (on -90 to 90) and 125 degrees longitude (on -180 to 180). This choice was arbitrary.\n",
    "\n",
    "Note that to run a full grid adjustment, one would use `pr_ba.adjust_bias()`. However, this is extremely computationally extensive and is recommended to be run on computing cluster to make use of the parallel implementation of this function."
   ],
   "metadata": {
    "collapsed": false
   }
  },
  {
   "cell_type": "code",
   "execution_count": null,
   "outputs": [],
   "source": [
    "pr_sim_fut_ba_loc = pr_ba.adjust_bias_one_location(dict(lat=100, lon=100))"
   ],
   "metadata": {
    "collapsed": false
   }
  },
  {
   "cell_type": "markdown",
   "source": [
    "# Plots"
   ],
   "metadata": {
    "collapsed": false
   }
  },
  {
   "cell_type": "markdown",
   "source": [
    "### Histogram\n",
    "This plot shows the distribution of precipitation over the time period Jan 1, 2095 - Dec 31, 2100 (our input simulated future period) at our given grid cell, before and after bias adjustment."
   ],
   "metadata": {
    "collapsed": false
   }
  },
  {
   "cell_type": "code",
   "execution_count": null,
   "outputs": [],
   "source": [
    "pr_sim_fut_ba_loc.plot_hist(scale='log')"
   ],
   "metadata": {
    "collapsed": false
   }
  },
  {
   "cell_type": "markdown",
   "source": [
    "### Empirical CDF\n",
    "This plot gives the empirical CDFs of precipitation for each of our input data, and bias adjusted result, at the given grid cell.\n",
    "\n",
    "We can see here how the relationship between the observational and simulated historical data, is indeed transferred from the simulated future data to the bias adjusted result."
   ],
   "metadata": {
    "collapsed": false
   }
  },
  {
   "cell_type": "code",
   "execution_count": null,
   "outputs": [],
   "source": [
    "pr_sim_fut_ba_loc.plot_ecdf(log_x=True)"
   ],
   "metadata": {
    "collapsed": false
   }
  },
  {
   "cell_type": "markdown",
   "source": [
    "# Downscaling Precipitation\n",
    "From the result from above, we want to downscale to the observational data resolution."
   ],
   "metadata": {
    "collapsed": false
   }
  },
  {
   "cell_type": "code",
   "execution_count": null,
   "outputs": [],
   "source": [
    "bias_corrected_data_path = os.path.join(data_path, 'bias-corrected')\n",
    "pr_ba_path = 'pr_day_CESM2-WACCM_ssp370_r1i1p1f1_gn_20950101-21010101_biascorrected_ewembi.nc'"
   ],
   "metadata": {
    "collapsed": false
   }
  },
  {
   "cell_type": "code",
   "execution_count": null,
   "outputs": [],
   "source": [
    "pr_ba = xr.open_dataset(os.path.join(bias_corrected_data_path, pr_ba_path),\n",
    "                        decode_coords = 'all')"
   ],
   "metadata": {
    "collapsed": false
   }
  },
  {
   "cell_type": "code",
   "execution_count": null,
   "outputs": [],
   "source": [
    "pr_sd = basd.Downscaler(pr_obs_hist, pr_ba, 'pr', params)"
   ],
   "metadata": {
    "collapsed": false
   }
  },
  {
   "cell_type": "code",
   "execution_count": null,
   "outputs": [],
   "source": [
    "pr_sd.downscale_one_location(dict(lat=0, lon=0))"
   ],
   "metadata": {
    "collapsed": false
   }
  },
  {
   "cell_type": "code",
   "execution_count": null,
   "outputs": [],
   "source": [
    "pr_sd.sim_coarse.to_netcdf(os.path.join(data_path, 'pr_ba_coarse_reprojection.nc'))\n",
    "pr_sd.sim_fine.to_netcdf(os.path.join(data_path, 'pr_ba_fine_reprojection.nc'))"
   ],
   "metadata": {
    "collapsed": false
   }
  },
  {
   "cell_type": "markdown",
   "source": [
    "# Shortwave Radiation Data\n",
    "\n",
    "Now we will adjust surface downwelling shortwave radiation output from MIROC's model using observational data from EWEMBI.\n",
    "\n",
    "Again we set the paths to our data:"
   ],
   "metadata": {
    "collapsed": false
   }
  },
  {
   "cell_type": "code",
   "execution_count": null,
   "outputs": [],
   "source": [
    "rsds_obs_hist_path = 'EWEMBI/rsds_ewembi_2011_2016.nc4'\n",
    "rsds_sim_hist_path = 'CMIP6/MIROC6/rsds_day_MIROC6_historical_r2i1p1f1_gn_20100101-20141231.nc'\n",
    "rsds_sim_fut_path = 'CMIP6/MIROC6/rsds_day_MIROC6_ssp370_r2i1p1f1_gn_20150101-20241231.nc'"
   ],
   "metadata": {
    "collapsed": false
   }
  },
  {
   "cell_type": "markdown",
   "source": [
    "reading in with `xarray`:"
   ],
   "metadata": {
    "collapsed": false
   }
  },
  {
   "cell_type": "code",
   "execution_count": null,
   "outputs": [],
   "source": [
    "rsds_obs_hist = xr.open_dataset(os.path.join(data_path, rsds_obs_hist_path),\n",
    "                                decode_coords = 'all')\n",
    "rsds_sim_hist = xr.open_dataset(os.path.join(data_path, rsds_sim_hist_path),\n",
    "                                decode_coords = 'all')\n",
    "rsds_sim_fut = xr.open_dataset(os.path.join(data_path, rsds_sim_fut_path),\n",
    "                               decode_coords = 'all')"
   ],
   "metadata": {
    "collapsed": false
   }
  },
  {
   "cell_type": "markdown",
   "source": [
    "## Creating Parameter and Adjustment Objects\n",
    "For `rsds` we have a bit more involved process to set up the bias adjustment, though that is all taken care of for us when we specify parameters. This is because we are going to first scale `rsds` to the interval [0,1], at which point is assumed to follow a Beta distribution. We'll then set our remaining parameters accordingly.\n",
    "\n",
    "Our data is scaled to [0,1] by setting each observation to be how large the observation is compared to the largest observation in a surrounding window. We get to choose how large the window by specifying the half width (so number of days just before or after). Here we set a half running window size of 15, thus a full window size of 31.\n",
    "\n",
    "Again, we also want to remap the observational data to match the simulated data's resolution.\n"
   ],
   "metadata": {
    "collapsed": false
   }
  },
  {
   "cell_type": "code",
   "execution_count": null,
   "outputs": [],
   "source": [
    "rsds_params = basd.Parameters(halfwin_ubc=15,\n",
    "                              trend_preservation='bounded',\n",
    "                              distribution='beta',\n",
    "                              lower_bound=0,\n",
    "                              upper_bound=1,\n",
    "                              lower_threshold=0.0001,\n",
    "                              upper_threshold=0.9999,\n",
    "                              if_all_invalid_use=0)\n",
    "rsds_ba = basd.Adjustment(rsds_obs_hist,\n",
    "                          rsds_sim_hist,\n",
    "                          rsds_sim_fut,\n",
    "                          'rsds',\n",
    "                          rsds_params,\n",
    "                          remap_grid=True)"
   ],
   "metadata": {
    "collapsed": false
   }
  },
  {
   "cell_type": "markdown",
   "source": [
    "# Adjustment at one location\n",
    "Here we ask to perform bias adjustment at the 100th row and 100th column cell position. This time this happens to correspond to 51.1 degrees latitude and 140.6 degrees longitude. Again, arbitrarily selected."
   ],
   "metadata": {
    "collapsed": false
   }
  },
  {
   "cell_type": "code",
   "execution_count": null,
   "outputs": [],
   "source": [
    "rsds_sim_fut_ba_loc = rsds_ba.adjust_bias_one_location(dict(lat=100, lon=100))"
   ],
   "metadata": {
    "collapsed": false
   }
  },
  {
   "cell_type": "markdown",
   "source": [
    "# Plots II"
   ],
   "metadata": {
    "collapsed": false
   }
  },
  {
   "cell_type": "markdown",
   "source": [
    "### Histogram\n",
    "Shows the distribution of surface downwelling shortwave radiation before and after bias adjustment at the chosen grid cell."
   ],
   "metadata": {
    "collapsed": false
   }
  },
  {
   "cell_type": "code",
   "execution_count": null,
   "outputs": [],
   "source": [
    "rsds_sim_fut_ba_loc.plot_hist()"
   ],
   "metadata": {
    "collapsed": false
   }
  },
  {
   "cell_type": "markdown",
   "source": [
    "### Empirical CDF\n",
    "Shows the empirical CDFs for each input data source and resulting adjustment time series, at the chosen grid cell."
   ],
   "metadata": {
    "collapsed": false
   }
  },
  {
   "cell_type": "code",
   "execution_count": null,
   "outputs": [],
   "source": [
    "px.ecdf(rsds_sim_fut_ba_loc.time_series, x='rsds', color='Source')"
   ],
   "metadata": {
    "collapsed": false
   }
  },
  {
   "cell_type": "markdown",
   "source": [
    "# Near-Surface Relative Humidity\n",
    "\n",
    "Now we will adjust near-surface relative humidity (hurs) output from MIROC's model using observational data from EWEMBI.\n",
    "\n",
    "Again we set the paths to our data:"
   ],
   "metadata": {
    "collapsed": false
   }
  },
  {
   "cell_type": "code",
   "execution_count": null,
   "outputs": [],
   "source": [
    "hurs_obs_hist_path = 'EWEMBI/hurs_ewembi_2011_2016.nc4'\n",
    "hurs_sim_fut_path = 'CMIP6/MIROC6/hurs_day_MIROC6_ssp370_r1i1p1f1_gn_20150101-20241231.nc'\n",
    "hurs_ba_path = 'hurs_day_MIROC6_ssp370_r1i1p1f1_gn_20150101-20241231_bias-corrected_ewembi.nc'"
   ],
   "metadata": {
    "collapsed": false
   }
  },
  {
   "cell_type": "code",
   "execution_count": null,
   "outputs": [],
   "source": [
    "hurs_obs_hist = xr.open_dataset(os.path.join(data_path, hurs_obs_hist_path),\n",
    "                                decode_coords = 'all')\n",
    "hurs_sim_fut = xr.open_dataset(os.path.join(data_path, hurs_sim_fut_path),\n",
    "                          decode_coords = 'all')\n",
    "hurs_ba = xr.open_dataset(os.path.join(bias_corrected_data_path, hurs_ba_path),\n",
    "                          decode_coords = 'all')"
   ],
   "metadata": {
    "collapsed": false
   }
  },
  {
   "cell_type": "code",
   "execution_count": null,
   "outputs": [],
   "source": [
    "hurs_params = basd.Parameters(lower_bound=0,\n",
    "                              lower_threshold=0.01,\n",
    "                              upper_bound=100,\n",
    "                              upper_threshold=99.99,\n",
    "                              trend_preservation='bounded',\n",
    "                              distribution='beta',\n",
    "                              if_all_invalid_use=0,\n",
    "                              n_iterations=10\n",
    "                             )\n",
    "hurs_ds = basd.Downscaler(hurs_obs_hist, hurs_ba, 'hurs', hurs_params)"
   ],
   "metadata": {
    "collapsed": false
   }
  },
  {
   "cell_type": "code",
   "execution_count": null,
   "outputs": [],
   "source": [
    "hurs_ds.sim_coarse.to_netcdf(os.path.join(data_path, 'hurs_ba_coarse_reprojection.nc'))\n",
    "hurs_ds.sim_fine.to_netcdf(os.path.join(data_path, 'hurs_ba_fine_reprojection.nc'))"
   ],
   "metadata": {
    "collapsed": false
   }
  },
  {
   "cell_type": "code",
   "execution_count": null,
   "outputs": [],
   "source": [
    "basd.reproject_for_integer_factors(hurs_obs_hist, hurs_ba)"
   ],
   "metadata": {
    "collapsed": false
   }
  },
  {
   "cell_type": "code",
   "execution_count": null,
   "outputs": [],
   "source": [
    "hurs_obs_hist.coords['lon'] = hurs_obs_hist.coords['lon'] + 180\n",
    " #df.coords['lon'] = (df.coords['lon'] + 180) % 360 - 180\n",
    " #df = df.sortby(df.lon)"
   ],
   "metadata": {
    "collapsed": false
   }
  },
  {
   "cell_type": "code",
   "execution_count": null,
   "outputs": [],
   "source": [
    "hurs_ba = hurs_ba.reset_coords(names=['lat_bnds', 'lon_bnds'], drop=True)"
   ],
   "metadata": {
    "collapsed": false
   }
  },
  {
   "cell_type": "code",
   "execution_count": null,
   "outputs": [],
   "source": [
    "width = hurs_ba.coords['lon'].values[1] - hurs_ba.coords['lon'].values[0]\n",
    "hurs_ba.coords['lon'] = hurs_ba.coords['lon'] + (width/2)"
   ],
   "metadata": {
    "collapsed": false
   }
  },
  {
   "cell_type": "code",
   "execution_count": null,
   "outputs": [],
   "source": [
    "hurs_obs_hist"
   ],
   "metadata": {
    "collapsed": false
   }
  },
  {
   "cell_type": "code",
   "execution_count": null,
   "outputs": [],
   "source": [
    "hurs_sim_fut"
   ],
   "metadata": {
    "collapsed": false
   }
  },
  {
   "cell_type": "code",
   "execution_count": null,
   "outputs": [],
   "source": [
    "hurs_ba"
   ],
   "metadata": {
    "collapsed": false
   }
  },
  {
   "cell_type": "code",
   "execution_count": null,
   "outputs": [],
   "source": [
    "obs_fine = hurs_obs_hist\n",
    "sim_coarse = hurs_ba"
   ],
   "metadata": {
    "collapsed": false
   }
  },
  {
   "cell_type": "code",
   "execution_count": null,
   "outputs": [],
   "source": [
    "fine_lats = obs_fine.coords['lat'].values\n",
    "fine_lons = obs_fine.coords['lon'].values\n",
    "coarse_lats = sim_coarse.coords['lat'].values\n",
    "coarse_lons = sim_coarse.coords['lon'].values\n",
    "f_lat = len(fine_lats) / len(coarse_lats)\n",
    "f_lon = len(fine_lons) / len(coarse_lons)"
   ],
   "metadata": {
    "collapsed": false
   }
  },
  {
   "cell_type": "code",
   "execution_count": null,
   "outputs": [],
   "source": [
    "isinstance(f_lat, int) & isinstance(f_lon, int)"
   ],
   "metadata": {
    "collapsed": false
   }
  },
  {
   "cell_type": "code",
   "execution_count": null,
   "outputs": [],
   "source": [
    "f_lat = len(fine_lats) // len(coarse_lats)\n",
    "f_lon = len(fine_lons) // len(coarse_lons)\n",
    "\n",
    "# Assert the coordinate reference system. Assumes CRS known by code ESPG:4326\n",
    "sim_coarse.rio.write_crs(4326, inplace=True)\n",
    "sim_coarse_xy = sim_coarse.rename({'lon': 'x', 'lat': 'y'}).transpose('time', 'y', 'x', ...)\n",
    "obs_fine_xy = obs_fine.rename({'lon': 'x', 'lat': 'y'}).transpose('time', 'y', 'x', ...)"
   ],
   "metadata": {
    "collapsed": false
   }
  },
  {
   "cell_type": "code",
   "execution_count": null,
   "outputs": [],
   "source": [
    "obs_coarse = obs_fine[dict(time=0)].coarsen(lat=f_lat).mean().coarsen(lon=f_lon).mean()"
   ],
   "metadata": {
    "collapsed": false
   }
  },
  {
   "cell_type": "code",
   "execution_count": null,
   "outputs": [],
   "source": [
    "(len(fine_lats) // f_lat, len(fine_lons) // f_lon)"
   ],
   "metadata": {
    "collapsed": false
   }
  },
  {
   "cell_type": "code",
   "execution_count": null,
   "outputs": [],
   "source": [
    "sim_coarse_xy"
   ],
   "metadata": {
    "collapsed": false
   }
  },
  {
   "cell_type": "code",
   "execution_count": null,
   "outputs": [],
   "source": [
    "sim_coarse_xy.rio.reproject(dst_crs=\"EPSG:4326\",\n",
    "                            shape=(len(fine_lats) // f_lat,\n",
    "                                   len(fine_lons) // f_lon))"
   ],
   "metadata": {
    "collapsed": false
   }
  },
  {
   "cell_type": "code",
   "execution_count": null,
   "outputs": [],
   "source": [
    "xr.Dataset({})"
   ],
   "metadata": {
    "collapsed": false
   }
  },
  {
   "cell_type": "code",
   "execution_count": null,
   "outputs": [],
   "source": [
    "latitudes = np.linspace(fine_lats[0], fine_lats[-1], len(fine_lats) // f_lat)\n",
    "longitudes = np.linspace(fine_lons[0], fine_lons[-1], len(fine_lons) // f_lon)\n",
    "latitudes, longitudes = np.meshgrid(latitudes, longitudes)"
   ],
   "metadata": {
    "collapsed": false
   }
  },
  {
   "cell_type": "code",
   "execution_count": null,
   "outputs": [],
   "source": [
    "obs_fine_xy.coarsen(x=f_lon).mean().coarsen(y=f_lat).mean()"
   ],
   "metadata": {
    "collapsed": false
   }
  }
 ],
 "metadata": {
  "kernelspec": {
   "display_name": "Python 3",
   "language": "python",
   "name": "python3"
  },
  "language_info": {
   "codemirror_mode": {
    "name": "ipython",
    "version": 2
   },
   "file_extension": ".py",
   "mimetype": "text/x-python",
   "name": "python",
   "nbconvert_exporter": "python",
   "pygments_lexer": "ipython2",
   "version": "2.7.6"
  }
 },
 "nbformat": 4,
 "nbformat_minor": 0
}
