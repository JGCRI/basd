{
 "cells": [
  {
   "cell_type": "markdown",
   "source": [
    "### Import Needed Packages"
   ],
   "metadata": {
    "collapsed": false
   }
  },
  {
   "cell_type": "code",
   "execution_count": null,
   "metadata": {
    "collapsed": true
   },
   "outputs": [],
   "source": [
    "import os\n",
    "\n",
    "from __future__ import print_function\n",
    "import requests\n",
    "\n",
    "from fsspec.implementations.http import HTTPFileSystem\n",
    "import plotly.express as px\n",
    "import xarray as xr\n",
    "\n",
    "import basd"
   ]
  },
  {
   "cell_type": "markdown",
   "source": [
    "# Precipitation Data\n",
    "\n",
    "Here we will adjust precipitation output from NCAR's CESM2-WACCM model using observational data from EWEMBI.\n",
    "\n",
    "First, we define a function created by an unknown author which produces OpenDAP url's for a given CMIP6 query using ESGF"
   ],
   "metadata": {
    "collapsed": false
   }
  },
  {
   "cell_type": "code",
   "execution_count": null,
   "outputs": [],
   "source": [
    "# Author: Unknown\n",
    "# I got the original version from a word document published by ESGF\n",
    "# https://docs.google.com/document/d/1pxz1Kd3JHfFp8vR2JCVBfApbsHmbUQQstifhGNdc6U0/edit?usp=sharing\n",
    "\n",
    "# API AT: https://github.com/ESGF/esgf.github.io/wiki/ESGF_Search_REST_API#results-pagination\n",
    "\n",
    "def esgf_search(server=\"https://esgf-node.llnl.gov/esg-search/search\",\n",
    "                files_type=\"OPENDAP\", local_node=True, project=\"CMIP6\",\n",
    "                verbose=False, format=\"application%2Fsolr%2Bjson\",\n",
    "                use_csrf=False, **search):\n",
    "    client = requests.session()\n",
    "    payload = search\n",
    "    payload[\"project\"] = project\n",
    "    payload[\"type\"]= \"File\"\n",
    "    if local_node:\n",
    "        payload[\"distrib\"] = \"false\"\n",
    "    if use_csrf:\n",
    "        client.get(server)\n",
    "        if 'csrftoken' in client.cookies:\n",
    "            # Django 1.6 and up\n",
    "            csrftoken = client.cookies['csrftoken']\n",
    "        else:\n",
    "            # older versions\n",
    "            csrftoken = client.cookies['csrf']\n",
    "        payload[\"csrfmiddlewaretoken\"] = csrftoken\n",
    "\n",
    "    payload[\"format\"] = format\n",
    "\n",
    "    offset = 0\n",
    "    numFound = 10000\n",
    "    all_files = []\n",
    "    files_type = files_type.upper()\n",
    "    while offset < numFound:\n",
    "        payload[\"offset\"] = offset\n",
    "        url_keys = []\n",
    "        for k in payload:\n",
    "            url_keys += [\"{}={}\".format(k, payload[k])]\n",
    "\n",
    "        url = \"{}/?{}\".format(server, \"&\".join(url_keys))\n",
    "        print(url)\n",
    "        r = client.get(url)\n",
    "        r.raise_for_status()\n",
    "        resp = r.json()[\"response\"]\n",
    "        numFound = int(resp[\"numFound\"])\n",
    "        resp = resp[\"docs\"]\n",
    "        offset += len(resp)\n",
    "        for d in resp:\n",
    "            if verbose:\n",
    "                for k in d:\n",
    "                    print(\"{}: {}\".format(k,d[k]))\n",
    "            url = d[\"url\"]\n",
    "            for f in d[\"url\"]:\n",
    "                sp = f.split(\"|\")\n",
    "                if sp[-1] == files_type:\n",
    "                    all_files.append(sp[0].split(\".html\")[0])\n",
    "    return sorted(all_files)"
   ],
   "metadata": {
    "collapsed": false
   }
  },
  {
   "cell_type": "markdown",
   "source": [
    "Here we query for daily precipitation data from NCAR's CESM2-WACCM model over the historical time period, and the 'r1i1p1f1' variant."
   ],
   "metadata": {
    "collapsed": false
   }
  },
  {
   "cell_type": "code",
   "execution_count": null,
   "outputs": [],
   "source": [
    "sim_hist_result = esgf_search(activity_id='CMIP', variable_id='pr', experiment_id='historical', frequency='day',\n",
    "                  institution_id=\"NCAR\", source_id=\"CESM2-WACCM\", member_id=\"r1i1p1f1\")"
   ],
   "metadata": {
    "collapsed": false
   }
  },
  {
   "cell_type": "markdown",
   "source": [
    "Here we open the data from all of the returning files using `xarray.open_mfdataset()` which will use Dask arrays as the backend, chunking every 365th timestep."
   ],
   "metadata": {
    "collapsed": false
   }
  },
  {
   "cell_type": "code",
   "execution_count": null,
   "outputs": [],
   "source": [
    "pr_sim_hist = xr.open_mfdataset(sim_hist_result[-17:], chunks={'time': 365})"
   ],
   "metadata": {
    "collapsed": false
   }
  },
  {
   "cell_type": "markdown",
   "source": [
    "Here we query for daily precipitation data from NCAR's CESM2-WACCM model over the future time period under SSP 2 and RCP 4.5, and the 'r1i1p1f1' variant."
   ],
   "metadata": {
    "collapsed": false
   }
  },
  {
   "cell_type": "code",
   "execution_count": null,
   "outputs": [],
   "source": [
    "sim_fut_result = esgf_search(activity_id='ScenarioMIP', variable_id='pr', experiment_id='ssp245', frequency='day',\n",
    "                  institution_id=\"NCAR\", source_id=\"CESM2-WACCM\", member_id=\"r1i1p1f1\")"
   ],
   "metadata": {
    "collapsed": false
   }
  },
  {
   "cell_type": "markdown",
   "source": [
    "Here we open the data from all of the returning files using `xarray.open_mfdataset()` which will use Dask arrays as the backend, chunking every 365th timestep."
   ],
   "metadata": {
    "collapsed": false
   }
  },
  {
   "cell_type": "code",
   "execution_count": null,
   "outputs": [],
   "source": [
    "pr_sim_fut = xr.open_mfdataset(sim_fut_result[-9:], chunks={'time': 365})"
   ],
   "metadata": {
    "collapsed": false
   }
  },
  {
   "cell_type": "markdown",
   "source": [
    "Now we read in the observational data, from GSWP3. This data isn't on OpenDAP, so we use `fsspec` to get around that."
   ],
   "metadata": {
    "collapsed": false
   }
  },
  {
   "cell_type": "code",
   "execution_count": null,
   "outputs": [],
   "source": [
    "url_list = ['https://files.isimip.org/ISIMIP2a/InputData/climate_co2/climate/HistObs/GSWP3/pr_gswp3_1971_1980.nc4',\n",
    "'https://files.isimip.org/ISIMIP2a/InputData/climate_co2/climate/HistObs/GSWP3/pr_gswp3_1981_1990.nc4',\n",
    "'https://files.isimip.org/ISIMIP2a/InputData/climate_co2/climate/HistObs/GSWP3/pr_gswp3_1991_2000.nc4',\n",
    "'https://files.isimip.org/ISIMIP2a/InputData/climate_co2/climate/HistObs/GSWP3/pr_gswp3_2001_2010.nc4']\n",
    "fs = HTTPFileSystem()\n",
    "fobjs = [fs.open(url) for url in url_list]"
   ],
   "metadata": {
    "collapsed": false
   }
  },
  {
   "cell_type": "code",
   "execution_count": null,
   "outputs": [],
   "source": [
    "pr_obs_hist = xr.open_mfdataset(fobjs, chunks={'time': 365})"
   ],
   "metadata": {
    "collapsed": false
   }
  },
  {
   "cell_type": "markdown",
   "source": [
    "## Setting parameters and creating Adjustment Object\n",
    "For precipitation, we set the following parameters:\n",
    "\n",
    "* Lower bound: 0\n",
    "* Lower threshold: 0.0000011547\n",
    "* Trend preservation method: 'mixed'\n",
    "* Distribution: 'gamma'\n",
    "* Value to set cells with only invalid values: 0\n",
    "\n",
    "We then create the bias adjustment object with our data, parameters object, and ask to have our data remapped to match in resolution. This is needed in this case as the EWEMBI data is 360x720 (lat x lon), where CESM2-WACCM is 192x288."
   ],
   "metadata": {
    "collapsed": false
   }
  },
  {
   "cell_type": "code",
   "execution_count": null,
   "outputs": [],
   "source": [
    "pr_sim_hist"
   ],
   "metadata": {
    "collapsed": false
   }
  },
  {
   "cell_type": "code",
   "execution_count": null,
   "outputs": [],
   "source": [
    "params = basd.Parameters(lower_bound=0,\n",
    "                         lower_threshold=0.0000011574,\n",
    "                         trend_preservation='mixed',\n",
    "                         distribution='gamma',\n",
    "                         if_all_invalid_use=0)\n",
    "pr_ba = basd.Adjustment(pr_obs_hist,\n",
    "                        pr_sim_hist,\n",
    "                        pr_sim_fut,\n",
    "                        'pr',\n",
    "                        params,\n",
    "                        remap_grid=True)"
   ],
   "metadata": {
    "collapsed": false
   }
  },
  {
   "cell_type": "markdown",
   "source": [
    "# Adjustment at one location\n",
    "Here we ask to perform bias adjustment at the 100th row and 100th column cell position. This happens to correspond to 4.421 degrees latitude (on -90 to 90) and 125 degrees longitude (on -180 to 180). This choice was arbitrary.\n",
    "\n",
    "Note that to run a full grid adjustment, one would use `pr_ba.adjust_bias()`. However, this is extremely computationally extensive and is recommended to be run on computing cluster to make use of the parallel implementation of this function."
   ],
   "metadata": {
    "collapsed": false
   }
  },
  {
   "cell_type": "code",
   "execution_count": null,
   "outputs": [],
   "source": [
    "pr_sim_fut_ba_loc = pr_ba.adjust_bias_one_location(dict(lat=100, lon=100))"
   ],
   "metadata": {
    "collapsed": false
   }
  },
  {
   "cell_type": "markdown",
   "source": [
    "# Plots"
   ],
   "metadata": {
    "collapsed": false
   }
  },
  {
   "cell_type": "markdown",
   "source": [
    "### Histogram\n",
    "This plot shows the distribution of precipitation over the time period Jan 1, 2095 - Dec 31, 2100 (our input simulated future period) at our given grid cell, before and after bias adjustment."
   ],
   "metadata": {
    "collapsed": false
   }
  },
  {
   "cell_type": "code",
   "execution_count": null,
   "outputs": [],
   "source": [
    "pr_sim_fut_ba_loc.plot_hist()"
   ],
   "metadata": {
    "collapsed": false
   }
  },
  {
   "cell_type": "markdown",
   "source": [
    "### Empirical CDF\n",
    "This plot gives the empirical CDFs of precipitation for each of our input data, and bias adjusted result, at the given grid cell.\n",
    "\n",
    "We can see here how the relationship between the observational and simulated historical data, is indeed transferred from the simulated future data to the bias adjusted result."
   ],
   "metadata": {
    "collapsed": false
   }
  },
  {
   "cell_type": "code",
   "execution_count": null,
   "outputs": [],
   "source": [
    "pr_sim_fut_ba_loc.plot_ecdf(log_x=True)"
   ],
   "metadata": {
    "collapsed": false
   }
  },
  {
   "cell_type": "markdown",
   "source": [
    "# Shortwave Radiation Data\n",
    "\n",
    "Now we will adjust surface downwelling shortwave radiation output from MIROC's model using observational data from EWEMBI.\n",
    "\n",
    "Again we set the paths to our data:"
   ],
   "metadata": {
    "collapsed": false
   }
  },
  {
   "cell_type": "code",
   "execution_count": null,
   "outputs": [],
   "source": [
    "rsds_obs_hist_path = 'rsds_ewembi_2011_2016.nc4'\n",
    "rsds_sim_hist_path = 'rsds_day_MIROC6_historical_r2i1p1f1_gn_20100101-20141231.nc'\n",
    "rsds_sim_fut_path = 'rsds_day_MIROC6_ssp370_r2i1p1f1_gn_20150101-20241231.nc'"
   ],
   "metadata": {
    "collapsed": false
   }
  },
  {
   "cell_type": "markdown",
   "source": [
    "reading in with `xarray`:"
   ],
   "metadata": {
    "collapsed": false
   }
  },
  {
   "cell_type": "code",
   "execution_count": null,
   "outputs": [],
   "source": [
    "rsds_obs_hist = xr.open_dataset(os.path.join(data_path, rsds_obs_hist_path),\n",
    "                                decode_coords = 'all')\n",
    "rsds_sim_hist = xr.open_dataset(os.path.join(data_path, rsds_sim_hist_path),\n",
    "                                decode_coords = 'all')\n",
    "rsds_sim_fut = xr.open_dataset(os.path.join(data_path, rsds_sim_fut_path),\n",
    "                               decode_coords = 'all')"
   ],
   "metadata": {
    "collapsed": false
   }
  },
  {
   "cell_type": "markdown",
   "source": [
    "## Creating Parameter and Adjustment Objects\n",
    "For `rsds` we have a bit more involved process to set up the bias adjustment, though that is all taken care of for us when we specify parameters. This is because we are going to first scale `rsds` to the interval [0,1], at which point is assumed to follow a Beta distribution. We'll then set our remaining parameters accordingly.\n",
    "\n",
    "Our data is scaled to [0,1] by setting each observation to be how large the observation is compared to the largest observation in a surrounding window. We get to choose how large the window by specifying the half width (so number of days just before or after). Here we set a half running window size of 15, thus a full window size of 31.\n",
    "\n",
    "Again, we also want to remap the observational data to match the simulated data's resolution.\n"
   ],
   "metadata": {
    "collapsed": false
   }
  },
  {
   "cell_type": "code",
   "execution_count": null,
   "outputs": [],
   "source": [
    "rsds_params = basd.Parameters(halfwin_ubc=15,\n",
    "                              trend_preservation='bounded',\n",
    "                              distribution='beta',\n",
    "                              lower_bound=0,\n",
    "                              upper_bound=1,\n",
    "                              lower_threshold=0.0001,\n",
    "                              upper_threshold=0.9999,\n",
    "                              if_all_invalid_use=0)\n",
    "rsds_ba = basd.Adjustment(rsds_obs_hist,\n",
    "                          rsds_sim_hist,\n",
    "                          rsds_sim_fut,\n",
    "                          'rsds',\n",
    "                          rsds_params,\n",
    "                          remap_grid=True)"
   ],
   "metadata": {
    "collapsed": false
   }
  },
  {
   "cell_type": "markdown",
   "source": [
    "# Adjustment at one location\n",
    "Here we ask to perform bias adjustment at the 100th row and 100th column cell position. This time this happens to correspond to 51.1 degrees latitude and 140.6 degrees longitude. Again, arbitrarily selected."
   ],
   "metadata": {
    "collapsed": false
   }
  },
  {
   "cell_type": "code",
   "execution_count": null,
   "outputs": [],
   "source": [
    "rsds_sim_fut_ba_loc = rsds_ba.adjust_bias_one_location(dict(lat=100, lon=100))"
   ],
   "metadata": {
    "collapsed": false
   }
  },
  {
   "cell_type": "markdown",
   "source": [
    "# Plots II"
   ],
   "metadata": {
    "collapsed": false
   }
  },
  {
   "cell_type": "markdown",
   "source": [
    "### Histogram\n",
    "Shows the distribution of surface downwelling shortwave radiation before and after bias adjustment at the chosen grid cell."
   ],
   "metadata": {
    "collapsed": false
   }
  },
  {
   "cell_type": "code",
   "execution_count": null,
   "outputs": [],
   "source": [
    "rsds_sim_fut_ba_loc.plot_hist()"
   ],
   "metadata": {
    "collapsed": false
   }
  },
  {
   "cell_type": "markdown",
   "source": [
    "### Empirical CDF\n",
    "Shows the empirical CDFs for each input data source and resulting adjustment time series, at the chosen grid cell."
   ],
   "metadata": {
    "collapsed": false
   }
  },
  {
   "cell_type": "code",
   "execution_count": null,
   "outputs": [],
   "source": [
    "px.ecdf(rsds_sim_fut_ba_loc.time_series, x='rsds', color='Source')"
   ],
   "metadata": {
    "collapsed": false
   }
  }
 ],
 "metadata": {
  "kernelspec": {
   "display_name": "Python 3",
   "language": "python",
   "name": "python3"
  },
  "language_info": {
   "codemirror_mode": {
    "name": "ipython",
    "version": 2
   },
   "file_extension": ".py",
   "mimetype": "text/x-python",
   "name": "python",
   "nbconvert_exporter": "python",
   "pygments_lexer": "ipython2",
   "version": "2.7.6"
  }
 },
 "nbformat": 4,
 "nbformat_minor": 0
}
