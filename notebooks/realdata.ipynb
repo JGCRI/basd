{
 "cells": [
  {
   "cell_type": "markdown",
   "source": [
    "### Import Needed Packages"
   ],
   "metadata": {
    "collapsed": false,
    "pycharm": {
     "name": "#%% md\n"
    }
   }
  },
  {
   "cell_type": "code",
   "execution_count": 1,
   "metadata": {
    "collapsed": true,
    "pycharm": {
     "name": "#%%\n"
    }
   },
   "outputs": [],
   "source": [
    "import os\n",
    "\n",
    "import plotly.express as px\n",
    "import numpy as np\n",
    "import xarray as xr\n",
    "\n",
    "import basd"
   ]
  },
  {
   "cell_type": "markdown",
   "source": [
    "### Root data path"
   ],
   "metadata": {
    "collapsed": false,
    "pycharm": {
     "name": "#%% md\n"
    }
   }
  },
  {
   "cell_type": "code",
   "execution_count": 2,
   "outputs": [],
   "source": [
    "data_path = '../../../OneDrive - PNNL/Documents/BASD/data'"
   ],
   "metadata": {
    "collapsed": false,
    "pycharm": {
     "name": "#%%\n"
    }
   }
  },
  {
   "cell_type": "markdown",
   "source": [
    "# Precipitation Data\n",
    "\n",
    "Here we will adjust precipitation output from NCAR's CESM2-WACCM model using observational data from EWEMBI.\n",
    "\n",
    "First we set the paths to our data:"
   ],
   "metadata": {
    "collapsed": false,
    "pycharm": {
     "name": "#%% md\n"
    }
   }
  },
  {
   "cell_type": "code",
   "execution_count": 3,
   "outputs": [],
   "source": [
    "#obs_hist_path = 'pr_day_CESM2-WACCM_historical_r2i1p1f1_gn_20100101-20150101.nc'\n",
    "pr_obs_hist_path = 'EWEMBI/pr_ewembi_2011_2016.nc4'\n",
    "pr_sim_hist_path = 'CMIP6/CESM2-WACCM/pr_day_CESM2-WACCM_historical_r1i1p1f1_gn_20100101-20150101.nc'\n",
    "pr_sim_fut_path = 'CMIP6/CESM2-WACCM/pr_day_CESM2-WACCM_ssp370_r1i1p1f1_gn_20950101-21010101.nc'"
   ],
   "metadata": {
    "collapsed": false,
    "pycharm": {
     "name": "#%%\n"
    }
   }
  },
  {
   "cell_type": "markdown",
   "source": [
    "and read in our data using the `xarray` package"
   ],
   "metadata": {
    "collapsed": false,
    "pycharm": {
     "name": "#%% md\n"
    }
   }
  },
  {
   "cell_type": "code",
   "execution_count": 4,
   "outputs": [
    {
     "name": "stderr",
     "output_type": "stream",
     "text": [
      "C:\\Users\\prim232\\virtualenvs\\basd-dev\\lib\\site-packages\\xarray\\conventions.py:522: SerializationWarning: variable 'pr' has multiple fill values {1e+20, 1e+20}, decoding all values to NaN.\n",
      "  new_vars[k] = decode_cf_variable(\n",
      "C:\\Users\\prim232\\AppData\\Local\\Temp\\ipykernel_13008\\4286948841.py:3: UserWarning: Variable(s) referenced in cell_measures not in variables: ['areacella']\n",
      "  pr_sim_hist = xr.open_dataset(os.path.join(data_path, pr_sim_hist_path),\n",
      "C:\\Users\\prim232\\AppData\\Local\\Temp\\ipykernel_13008\\4286948841.py:5: UserWarning: Variable(s) referenced in cell_measures not in variables: ['areacella']\n",
      "  pr_sim_fut = xr.open_dataset(os.path.join(data_path, pr_sim_fut_path),\n"
     ]
    }
   ],
   "source": [
    "pr_obs_hist = xr.open_dataset(os.path.join(data_path, pr_obs_hist_path),\n",
    "                              decode_coords = 'all')\n",
    "pr_sim_hist = xr.open_dataset(os.path.join(data_path, pr_sim_hist_path),\n",
    "                              decode_coords = 'all')\n",
    "pr_sim_fut = xr.open_dataset(os.path.join(data_path, pr_sim_fut_path),\n",
    "                             decode_coords = 'all')"
   ],
   "metadata": {
    "collapsed": false,
    "pycharm": {
     "name": "#%%\n"
    }
   }
  },
  {
   "cell_type": "markdown",
   "source": [
    "## Setting parameters and creating Adjustment Object\n",
    "For precipitation, we set the following parameters:\n",
    "\n",
    "* Lower bound: 0\n",
    "* Lower threshold: 0.0000011547\n",
    "* Trend preservation method: 'mixed'\n",
    "* Distribution: 'gamma'\n",
    "* Value to set cells with only invalid values: 0\n",
    "\n",
    "We then create the bias adjustment object with our data, parameters object, and ask to have our data remapped to match in resolution. This is needed in this case as the EWEMBI data is 360x720 (lat x lon), where CESM2-WACCM is 192x288."
   ],
   "metadata": {
    "collapsed": false,
    "pycharm": {
     "name": "#%% md\n"
    }
   }
  },
  {
   "cell_type": "code",
   "execution_count": 5,
   "outputs": [],
   "source": [
    "params = basd.Parameters(lower_bound=0,\n",
    "                         lower_threshold=0.0000011574,\n",
    "                         trend_preservation='mixed',\n",
    "                         distribution='gamma',\n",
    "                         if_all_invalid_use=0)\n"
   ],
   "metadata": {
    "collapsed": false,
    "pycharm": {
     "name": "#%%\n"
    }
   }
  },
  {
   "cell_type": "code",
   "execution_count": 8,
   "outputs": [
    {
     "name": "stderr",
     "output_type": "stream",
     "text": [
      "C:\\Users\\prim232\\virtualenvs\\basd-dev\\lib\\site-packages\\xarray\\coding\\cftime_offsets.py:1130: FutureWarning: Argument `closed` is deprecated in favor of `inclusive`.\n",
      "  return pd.date_range(\n",
      "C:\\Users\\prim232\\virtualenvs\\basd-dev\\lib\\site-packages\\xarray\\coding\\cftime_offsets.py:1130: FutureWarning: Argument `closed` is deprecated in favor of `inclusive`.\n",
      "  return pd.date_range(\n"
     ]
    }
   ],
   "source": [
    "pr_ba = basd.Adjustment(pr_obs_hist,\n",
    "                        pr_sim_hist,\n",
    "                        pr_sim_fut,\n",
    "                        'pr',\n",
    "                        params,\n",
    "                        remap_grid=True)"
   ],
   "metadata": {
    "collapsed": false,
    "pycharm": {
     "name": "#%%\n"
    }
   }
  },
  {
   "cell_type": "markdown",
   "source": [
    "# Adjustment at one location\n",
    "Here we ask to perform bias adjustment at the 100th row and 100th column cell position. This happens to correspond to 4.421 degrees latitude (on -90 to 90) and 125 degrees longitude (on -180 to 180). This choice was arbitrary.\n",
    "\n",
    "Note that to run a full grid adjustment, one would use `pr_ba.adjust_bias()`. However, this is extremely computationally extensive and is recommended to be run on computing cluster to make use of the parallel implementation of this function."
   ],
   "metadata": {
    "collapsed": false,
    "pycharm": {
     "name": "#%% md\n"
    }
   }
  },
  {
   "cell_type": "code",
   "execution_count": null,
   "outputs": [],
   "source": [
    "pr_sim_fut_ba_loc = pr_ba.adjust_bias_one_location(dict(lat=100, lon=100))"
   ],
   "metadata": {
    "collapsed": false,
    "pycharm": {
     "name": "#%%\n"
    }
   }
  },
  {
   "cell_type": "markdown",
   "source": [
    "# Plots"
   ],
   "metadata": {
    "collapsed": false,
    "pycharm": {
     "name": "#%% md\n"
    }
   }
  },
  {
   "cell_type": "markdown",
   "source": [
    "### Histogram\n",
    "This plot shows the distribution of precipitation over the time period Jan 1, 2095 - Dec 31, 2100 (our input simulated future period) at our given grid cell, before and after bias adjustment."
   ],
   "metadata": {
    "collapsed": false,
    "pycharm": {
     "name": "#%% md\n"
    }
   }
  },
  {
   "cell_type": "code",
   "execution_count": null,
   "outputs": [],
   "source": [
    "pr_sim_fut_ba_loc.plot_hist()"
   ],
   "metadata": {
    "collapsed": false,
    "pycharm": {
     "name": "#%%\n"
    }
   }
  },
  {
   "cell_type": "markdown",
   "source": [
    "### Empirical CDF\n",
    "This plot gives the empirical CDFs of precipitation for each of our input data, and bias adjusted result, at the given grid cell.\n",
    "\n",
    "We can see here how the relationship between the observational and simulated historical data, is indeed transferred from the simulated future data to the bias adjusted result."
   ],
   "metadata": {
    "collapsed": false,
    "pycharm": {
     "name": "#%% md\n"
    }
   }
  },
  {
   "cell_type": "code",
   "execution_count": null,
   "outputs": [],
   "source": [
    "pr_sim_fut_ba_loc.plot_ecdf(log_x=True)"
   ],
   "metadata": {
    "collapsed": false,
    "pycharm": {
     "name": "#%%\n"
    }
   }
  },
  {
   "cell_type": "markdown",
   "source": [
    "# Downscaling Precipitation\n",
    "From the result from above, we want to downscale to the observational data resolution."
   ],
   "metadata": {
    "collapsed": false,
    "pycharm": {
     "name": "#%% md\n"
    }
   }
  },
  {
   "cell_type": "code",
   "execution_count": 6,
   "outputs": [],
   "source": [
    "bias_corrected_data_path = os.path.join(data_path, 'bias-corrected')\n",
    "pr_ba_path = 'pr_day_CESM2-WACCM_ssp370_r1i1p1f1_gn_20950101-21010101_biascorrected_ewembi.nc'"
   ],
   "metadata": {
    "collapsed": false,
    "pycharm": {
     "name": "#%%\n"
    }
   }
  },
  {
   "cell_type": "code",
   "execution_count": 7,
   "outputs": [],
   "source": [
    "pr_ba = xr.open_dataset(os.path.join(bias_corrected_data_path, pr_ba_path),\n",
    "                        decode_coords = 'all')"
   ],
   "metadata": {
    "collapsed": false,
    "pycharm": {
     "name": "#%%\n"
    }
   }
  },
  {
   "cell_type": "code",
   "execution_count": 8,
   "outputs": [
    {
     "name": "stderr",
     "output_type": "stream",
     "text": [
      "C:\\Users\\prim232\\virtualenvs\\basd-dev\\lib\\site-packages\\xarray\\coding\\cftime_offsets.py:1130: FutureWarning: Argument `closed` is deprecated in favor of `inclusive`.\n",
      "  return pd.date_range(\n",
      "C:\\Users\\prim232\\virtualenvs\\basd-dev\\lib\\site-packages\\rioxarray\\raster_writer.py:115: UserWarning: The nodata value (3.402823466e+38) has been automatically changed to (3.4028234663852886e+38) to match the dtype of the data.\n",
      "  warnings.warn(\n"
     ]
    }
   ],
   "source": [
    "pr_sd = basd.Downscaler(pr_obs_hist, pr_ba, 'pr', params)"
   ],
   "metadata": {
    "collapsed": false,
    "pycharm": {
     "name": "#%%\n"
    }
   }
  },
  {
   "cell_type": "code",
   "execution_count": 9,
   "outputs": [
    {
     "data": {
      "text/plain": "'proleptic_gregorian'"
     },
     "execution_count": 9,
     "metadata": {},
     "output_type": "execute_result"
    }
   ],
   "source": [
    "pr_sd.sim_fine.time.dt.calendar"
   ],
   "metadata": {
    "collapsed": false,
    "pycharm": {
     "name": "#%%\n"
    }
   }
  },
  {
   "cell_type": "code",
   "execution_count": 9,
   "outputs": [
    {
     "data": {
      "text/plain": "array([[[0.0000000e+00, 0.0000000e+00, 0.0000000e+00, ...,\n         1.2554499e-05, 2.6450427e-06, 0.0000000e+00],\n        [0.0000000e+00, 1.2108455e-06, 1.5439680e-06, ...,\n         0.0000000e+00, 0.0000000e+00, 0.0000000e+00]]], dtype=float32)"
     },
     "execution_count": 9,
     "metadata": {},
     "output_type": "execute_result"
    }
   ],
   "source": [
    "pr_sd.downscale_one_location(dict(lat=0, lon=0))"
   ],
   "metadata": {
    "collapsed": false,
    "pycharm": {
     "name": "#%%\n"
    }
   }
  },
  {
   "cell_type": "code",
   "execution_count": 32,
   "outputs": [
    {
     "data": {
      "text/plain": "True"
     },
     "execution_count": 32,
     "metadata": {},
     "output_type": "execute_result"
    }
   ],
   "source": [
    "coarse_lats = np.diff(pr_ba.coords['lat'].values)\n",
    "np.allclose(coarse_lats, coarse_lats[0])"
   ],
   "metadata": {
    "collapsed": false,
    "pycharm": {
     "name": "#%%\n"
    }
   }
  },
  {
   "cell_type": "markdown",
   "source": [
    "# Shortwave Radiation Data\n",
    "\n",
    "Now we will adjust surface downwelling shortwave radiation output from MIROC's model using observational data from EWEMBI.\n",
    "\n",
    "Again we set the paths to our data:"
   ],
   "metadata": {
    "collapsed": false,
    "pycharm": {
     "name": "#%% md\n"
    }
   }
  },
  {
   "cell_type": "code",
   "execution_count": null,
   "outputs": [],
   "source": [
    "rsds_obs_hist_path = 'EWEMBI/rsds_ewembi_2011_2016.nc4'\n",
    "rsds_sim_hist_path = 'CMIP6/MIROC6/rsds_day_MIROC6_historical_r2i1p1f1_gn_20100101-20141231.nc'\n",
    "rsds_sim_fut_path = 'CMIP6/MIROC6/rsds_day_MIROC6_ssp370_r2i1p1f1_gn_20150101-20241231.nc'"
   ],
   "metadata": {
    "collapsed": false,
    "pycharm": {
     "name": "#%%\n"
    }
   }
  },
  {
   "cell_type": "markdown",
   "source": [
    "reading in with `xarray`:"
   ],
   "metadata": {
    "collapsed": false,
    "pycharm": {
     "name": "#%% md\n"
    }
   }
  },
  {
   "cell_type": "code",
   "execution_count": null,
   "outputs": [],
   "source": [
    "rsds_obs_hist = xr.open_dataset(os.path.join(data_path, rsds_obs_hist_path),\n",
    "                                decode_coords = 'all')\n",
    "rsds_sim_hist = xr.open_dataset(os.path.join(data_path, rsds_sim_hist_path),\n",
    "                                decode_coords = 'all')\n",
    "rsds_sim_fut = xr.open_dataset(os.path.join(data_path, rsds_sim_fut_path),\n",
    "                               decode_coords = 'all')"
   ],
   "metadata": {
    "collapsed": false,
    "pycharm": {
     "name": "#%%\n"
    }
   }
  },
  {
   "cell_type": "markdown",
   "source": [
    "## Creating Parameter and Adjustment Objects\n",
    "For `rsds` we have a bit more involved process to set up the bias adjustment, though that is all taken care of for us when we specify parameters. This is because we are going to first scale `rsds` to the interval [0,1], at which point is assumed to follow a Beta distribution. We'll then set our remaining parameters accordingly.\n",
    "\n",
    "Our data is scaled to [0,1] by setting each observation to be how large the observation is compared to the largest observation in a surrounding window. We get to choose how large the window by specifying the half width (so number of days just before or after). Here we set a half running window size of 15, thus a full window size of 31.\n",
    "\n",
    "Again, we also want to remap the observational data to match the simulated data's resolution.\n"
   ],
   "metadata": {
    "collapsed": false,
    "pycharm": {
     "name": "#%% md\n"
    }
   }
  },
  {
   "cell_type": "code",
   "execution_count": null,
   "outputs": [],
   "source": [
    "rsds_params = basd.Parameters(halfwin_ubc=15,\n",
    "                              trend_preservation='bounded',\n",
    "                              distribution='beta',\n",
    "                              lower_bound=0,\n",
    "                              upper_bound=1,\n",
    "                              lower_threshold=0.0001,\n",
    "                              upper_threshold=0.9999,\n",
    "                              if_all_invalid_use=0)\n",
    "rsds_ba = basd.Adjustment(rsds_obs_hist,\n",
    "                          rsds_sim_hist,\n",
    "                          rsds_sim_fut,\n",
    "                          'rsds',\n",
    "                          rsds_params,\n",
    "                          remap_grid=True)"
   ],
   "metadata": {
    "collapsed": false,
    "pycharm": {
     "name": "#%%\n"
    }
   }
  },
  {
   "cell_type": "markdown",
   "source": [
    "# Adjustment at one location\n",
    "Here we ask to perform bias adjustment at the 100th row and 100th column cell position. This time this happens to correspond to 51.1 degrees latitude and 140.6 degrees longitude. Again, arbitrarily selected."
   ],
   "metadata": {
    "collapsed": false,
    "pycharm": {
     "name": "#%% md\n"
    }
   }
  },
  {
   "cell_type": "code",
   "execution_count": null,
   "outputs": [],
   "source": [
    "rsds_sim_fut_ba_loc = rsds_ba.adjust_bias_one_location(dict(lat=100, lon=100))"
   ],
   "metadata": {
    "collapsed": false,
    "pycharm": {
     "name": "#%%\n"
    }
   }
  },
  {
   "cell_type": "markdown",
   "source": [
    "# Plots II"
   ],
   "metadata": {
    "collapsed": false,
    "pycharm": {
     "name": "#%% md\n"
    }
   }
  },
  {
   "cell_type": "markdown",
   "source": [
    "### Histogram\n",
    "Shows the distribution of surface downwelling shortwave radiation before and after bias adjustment at the chosen grid cell."
   ],
   "metadata": {
    "collapsed": false,
    "pycharm": {
     "name": "#%% md\n"
    }
   }
  },
  {
   "cell_type": "code",
   "execution_count": null,
   "outputs": [],
   "source": [
    "rsds_sim_fut_ba_loc.plot_hist()"
   ],
   "metadata": {
    "collapsed": false,
    "pycharm": {
     "name": "#%%\n"
    }
   }
  },
  {
   "cell_type": "markdown",
   "source": [
    "### Empirical CDF\n",
    "Shows the empirical CDFs for each input data source and resulting adjustment time series, at the chosen grid cell."
   ],
   "metadata": {
    "collapsed": false,
    "pycharm": {
     "name": "#%% md\n"
    }
   }
  },
  {
   "cell_type": "code",
   "execution_count": null,
   "outputs": [],
   "source": [
    "px.ecdf(rsds_sim_fut_ba_loc.time_series, x='rsds', color='Source')"
   ],
   "metadata": {
    "collapsed": false,
    "pycharm": {
     "name": "#%%\n"
    }
   }
  }
 ],
 "metadata": {
  "kernelspec": {
   "display_name": "Python 3",
   "language": "python",
   "name": "python3"
  },
  "language_info": {
   "codemirror_mode": {
    "name": "ipython",
    "version": 2
   },
   "file_extension": ".py",
   "mimetype": "text/x-python",
   "name": "python",
   "nbconvert_exporter": "python",
   "pygments_lexer": "ipython2",
   "version": "2.7.6"
  }
 },
 "nbformat": 4,
 "nbformat_minor": 0
}