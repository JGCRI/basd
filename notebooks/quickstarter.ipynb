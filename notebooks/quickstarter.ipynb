{
 "cells": [
  {
   "cell_type": "code",
   "execution_count": 1,
   "metadata": {
    "collapsed": true,
    "pycharm": {
     "name": "#%%\n"
    }
   },
   "outputs": [],
   "source": [
    "import os\n",
    "\n",
    "import basd\n",
    "import numpy as np\n",
    "import numpy.ma as ma\n",
    "import pandas as pd\n",
    "import xarray as xr"
   ]
  },
  {
   "cell_type": "markdown",
   "source": [
    "### Exploring the `xarray` package\n",
    "\n",
    "   - Creating two `DataArray`s, affectively dataframes with extra attributes\n",
    "        - One for precipitation and one for temperature at 4 grid cells\n",
    "   - Adding these two `DataArray`s to a `Dataset`, more or less a dictionary for these data"
   ],
   "metadata": {
    "collapsed": false,
    "pycharm": {
     "name": "#%% md\n"
    }
   }
  },
  {
   "cell_type": "code",
   "execution_count": 2,
   "outputs": [],
   "source": [
    "# Precipitation data array\n",
    "pr = xr.DataArray( np.random.rand(2,2), dims=('lat','lon'), coords={'lat':[35,10]})\n",
    "pr.attrs['long_name'] = 'precipitation'\n",
    "pr.attrs['units'] = 'inches'\n",
    "pr.attrs['description'] = 'mean precipitation of grid cell, daily'\n",
    "\n",
    "# Temperature data array\n",
    "tas = xr.DataArray( np.random.rand(2,2), dims=('lat','lon'), coords={'lat':[35,10]})\n",
    "tas.attrs['long_name'] = 'precipitation'\n",
    "tas.attrs['units'] = 'inches'\n",
    "tas.attrs['description'] = 'mean precipitation of grid cell, daily'\n",
    "\n",
    "# Dataset of the two above data arrays\n",
    "dataset = xr.Dataset(dict(pr=pr, tas=tas))"
   ],
   "metadata": {
    "collapsed": false,
    "pycharm": {
     "name": "#%%\n"
    }
   }
  },
  {
   "cell_type": "markdown",
   "source": [
    "#### Reading in a NetCDF file\n",
    "\n",
    "Reading in observational precipitation data from 1979-2014 supplied in the data directory."
   ],
   "metadata": {
    "collapsed": false,
    "pycharm": {
     "name": "#%% md\n"
    }
   }
  },
  {
   "cell_type": "code",
   "execution_count": 3,
   "outputs": [],
   "source": [
    "pr_obs_hist = xr.open_dataset('../basd/data/pr_obs-hist_coarse_1979-2014.nc')\n",
    "pr_sim_hist = xr.open_dataset('../basd/data/pr_sim-hist_coarse_1979-2014.nc')\n",
    "pr_sim_fut = xr.open_dataset('../basd/data/pr_sim-fut_coarse_2065-2100.nc')"
   ],
   "metadata": {
    "collapsed": false,
    "pycharm": {
     "name": "#%%\n"
    }
   }
  },
  {
   "cell_type": "markdown",
   "source": [
    "## Running a Bias Adjustment"
   ],
   "metadata": {
    "collapsed": false,
    "pycharm": {
     "name": "#%% md\n"
    }
   }
  },
  {
   "cell_type": "markdown",
   "source": [
    "### Initializing our first `Adjustment` object\n",
    "\n",
    "Here we are providing the three required data arrays and the variable name 'pr'. For precipitation, a variable that will be bounded below, we want to input some additional parameters:\n",
    "\n",
    "- Lower bound = 0\n",
    "- Lower threshold = 0.001\n",
    "- Trend preservation = mixed\n",
    "- Distribution = gamma\n",
    "\n",
    "Otherwise, we are keeping the default parameter values for the bias adjustment"
   ],
   "metadata": {
    "collapsed": false,
    "pycharm": {
     "name": "#%% md\n"
    }
   }
  },
  {
   "cell_type": "code",
   "execution_count": 7,
   "outputs": [],
   "source": [
    "ba = basd.Adjustment(pr_obs_hist, pr_sim_hist, pr_sim_fut, 'pr',\n",
    "                     lower_bound=0, lower_threshold=0.01, trend_preservation='mixed',\n",
    "                     distribution='gamma')"
   ],
   "metadata": {
    "collapsed": false,
    "pycharm": {
     "name": "#%%\n"
    }
   }
  },
  {
   "cell_type": "markdown",
   "source": [
    "#### Initializing running window mode\n",
    "\n",
    "Here we want to scrape the month, year, or day of the year, for each observation. We will end up using some but not all of this info depending on the adjustment method chosen by the parameters."
   ],
   "metadata": {
    "collapsed": false,
    "pycharm": {
     "name": "#%% md\n"
    }
   }
  },
  {
   "cell_type": "code",
   "execution_count": 18,
   "outputs": [],
   "source": [
    "# Scraping the time from the data and turning into pandas date time array\n",
    "dates_obs_hist = pd.DatetimeIndex(ba.obs_hist['time'].values)\n",
    "dates_sim_hist = pd.DatetimeIndex(ba.sim_hist['time'].values)\n",
    "dates_sim_fut = pd.DatetimeIndex(ba.sim_fut['time'].values)\n",
    "\n",
    "# Getting the month for each observation\n",
    "month_numbers = {\n",
    "    'obs_hist': dates_obs_hist.month,\n",
    "    'sim_hist': dates_sim_hist.month,\n",
    "    'sim_fut': dates_sim_fut.month\n",
    "}\n",
    "\n",
    "# Getting the year for each observation\n",
    "years = {\n",
    "    'obs_hist': dates_obs_hist.year,\n",
    "    'sim_hist': dates_sim_hist.year,\n",
    "    'sim_fut': dates_sim_fut.year\n",
    "}\n",
    "\n",
    "# Getting the day of the year for each observation\n",
    "days = {\n",
    "    'obs_hist': dates_obs_hist.day,\n",
    "    'sim_hist': dates_sim_hist.day,\n",
    "    'sim_fut': dates_sim_fut.day\n",
    "}\n"
   ],
   "metadata": {
    "collapsed": false,
    "pycharm": {
     "name": "#%%\n"
    }
   }
  }
 ],
 "metadata": {
  "kernelspec": {
   "display_name": "Python 3",
   "language": "python",
   "name": "python3"
  },
  "language_info": {
   "codemirror_mode": {
    "name": "ipython",
    "version": 2
   },
   "file_extension": ".py",
   "mimetype": "text/x-python",
   "name": "python",
   "nbconvert_exporter": "python",
   "pygments_lexer": "ipython2",
   "version": "2.7.6"
  }
 },
 "nbformat": 4,
 "nbformat_minor": 0
}