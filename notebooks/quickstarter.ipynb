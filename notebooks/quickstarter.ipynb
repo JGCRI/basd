{
 "cells": [
  {
   "cell_type": "code",
   "execution_count": null,
   "outputs": [],
   "source": [
    "import numpy as np\n",
    "import os\n",
    "\n",
    "import basd\n",
    "import dask.array as da\n",
    "from dask.diagnostics import ProgressBar\n",
    "from dask.distributed import Client\n",
    "from dask.distributed import LocalCluster\n",
    "import multiprocessing as mp\n",
    "import numpy as np\n",
    "import xarray as xr"
   ],
   "metadata": {
    "collapsed": false
   }
  },
  {
   "cell_type": "code",
   "execution_count": null,
   "outputs": [],
   "source": [
    "input_dir = '../basd/data'\n",
    "output_dir = '../basd/data/output'"
   ],
   "metadata": {
    "collapsed": false
   }
  },
  {
   "cell_type": "markdown",
   "source": [
    "#### Reading NetCDF file\n",
    "Reading in observational precipitation data from 1979-2014 supplied in the data directory."
   ],
   "metadata": {
    "collapsed": false
   }
  },
  {
   "cell_type": "code",
   "execution_count": null,
   "outputs": [],
   "source": [
    "pr_obs_hist = xr.open_dataset(os.path.join(input_dir, 'pr_obs-hist_fine_1979-2014.nc'))\n",
    "pr_sim_hist = xr.open_dataset(os.path.join(input_dir, 'pr_sim-hist_coarse_1979-2014.nc'))\n",
    "pr_sim_fut = xr.open_dataset(os.path.join(input_dir, 'pr_sim-fut_coarse_2065-2100.nc'))"
   ],
   "metadata": {
    "collapsed": false
   }
  },
  {
   "cell_type": "markdown",
   "source": [
    "### Running Bias Adjustment\n",
    "#### Initializing our first `Adjustment` object\n",
    "Here we are providing the three required data arrays and a variable name 'pr' representing the daily mean precipitation variable. Precipitation is assumed to follow a gamma distribution, and thus requires a lower bound and lower threshold parameter. We also set trend preservation mode to be 'mixed'. Thus, we set the parameter object directly specifying:\n",
    "\n",
    "* Lower bound = 0\n",
    "* Lower threshold = 0.0000011574\n",
    "* Trend preservation = mixed\n",
    "* Distribution = gamma\n",
    "\n",
    "Otherwise, we are keeping the default parameter values for the bias adjustment."
   ],
   "metadata": {
    "collapsed": false
   }
  },
  {
   "cell_type": "code",
   "execution_count": null,
   "outputs": [],
   "source": [
    "params = basd.Parameters(lower_bound=0, lower_threshold=0.0000011574,\n",
    "                         trend_preservation='mixed',\n",
    "                         distribution='gamma',\n",
    "                         if_all_invalid_use=0, n_iterations=10)\n",
    "ba = basd.Adjustment(pr_obs_hist, pr_sim_hist, pr_sim_fut,\n",
    "                     'pr', params, remap_grid=True )"
   ],
   "metadata": {
    "collapsed": false
   }
  },
  {
   "cell_type": "markdown",
   "source": [
    "#### Running Bias Adjustment\n",
    "Here we run the bias adjustment for just one grid cell. We pass in a tuple with the indexes which we wish to adjust, (0,0), which in this case correspond to the coordinates 53.5 N, 12.5 E."
   ],
   "metadata": {
    "collapsed": false
   }
  },
  {
   "cell_type": "code",
   "execution_count": null,
   "outputs": [],
   "source": [
    "loc = dict(lat=1, lon=1)\n",
    "sim_fut_ba_loc = ba.adjust_bias_one_location(loc)"
   ],
   "metadata": {
    "collapsed": false
   }
  },
  {
   "cell_type": "code",
   "execution_count": null,
   "outputs": [],
   "source": [
    "sim_fut_ba_loc.plot_hist(scale='log')"
   ],
   "metadata": {
    "collapsed": false
   }
  },
  {
   "cell_type": "code",
   "execution_count": null,
   "outputs": [],
   "source": [
    "with LocalCluster(processes=True) as cluster, Client(cluster) as client:\n",
    "    pr_sim_fut_ba = ba.adjust_bias(lat_chunk_size=1, lon_chunk_size=1, path=output_dir)"
   ],
   "metadata": {
    "collapsed": false
   }
  },
  {
   "cell_type": "code",
   "execution_count": null,
   "outputs": [],
   "source": [
    "cluster = LocalCluster(processes=True)\n",
    "client = Client(cluster)\n",
    "client.dashboard_link"
   ],
   "metadata": {
    "collapsed": false
   }
  },
  {
   "cell_type": "code",
   "execution_count": null,
   "outputs": [],
   "source": [
    "pr_sim_fut_ba = ba.adjust_bias(lat_chunk_size=1, lon_chunk_size=1)\n",
    "# ba.save_adjustment_nc(output_dir)"
   ],
   "metadata": {
    "collapsed": false
   }
  },
  {
   "cell_type": "code",
   "execution_count": null,
   "outputs": [],
   "source": [
    "cluster.close()"
   ],
   "metadata": {
    "collapsed": false
   }
  },
  {
   "cell_type": "markdown",
   "source": [
    "# Statistical Downscaling\n",
    "We're now going to start to look at downscaling simulated data to observational data resolution using the statistical downscaling algorithm."
   ],
   "metadata": {
    "collapsed": false
   }
  },
  {
   "cell_type": "code",
   "execution_count": null,
   "outputs": [],
   "source": [
    "sd = basd.Downscaler(pr_obs_hist, pr_sim_fut_ba, 'pr', params)"
   ],
   "metadata": {
    "collapsed": false
   }
  },
  {
   "cell_type": "code",
   "execution_count": null,
   "outputs": [],
   "source": [
    "loc = dict(lat=0, lon=0)\n",
    "out = sd.downscale_one_location(loc)"
   ],
   "metadata": {
    "collapsed": false
   }
  },
  {
   "cell_type": "code",
   "execution_count": null,
   "outputs": [],
   "source": [
    "sd.downscale()"
   ],
   "metadata": {
    "collapsed": false
   }
  },
  {
   "cell_type": "markdown",
   "source": [],
   "metadata": {
    "collapsed": false
   }
  },
  {
   "cell_type": "markdown",
   "source": [
    "# Dask Implementation"
   ],
   "metadata": {
    "collapsed": false
   }
  },
  {
   "cell_type": "code",
   "execution_count": null,
   "outputs": [],
   "source": [
    "data_path = '../basd/data'"
   ],
   "metadata": {
    "collapsed": false
   }
  },
  {
   "cell_type": "code",
   "execution_count": null,
   "outputs": [],
   "source": [
    "pr_obs_hist_fine = xr.open_mfdataset(os.path.join(data_path, 'pr_obs-hist_fine*'))\n",
    "pr_sim_hist = xr.open_mfdataset(os.path.join(data_path, 'pr_sim-hist_coarse*'))\n",
    "pr_sim_fut = xr.open_mfdataset(os.path.join(data_path, 'pr_sim-fut_coarse*'))"
   ],
   "metadata": {
    "collapsed": false
   }
  },
  {
   "cell_type": "code",
   "execution_count": null,
   "outputs": [],
   "source": [
    "pr_obs_hist = basd.project_onto(pr_obs_hist_fine, pr_sim_hist, 'pr')"
   ],
   "metadata": {
    "collapsed": false
   }
  },
  {
   "cell_type": "code",
   "execution_count": null,
   "outputs": [],
   "source": [
    "pr_obs_hist = pr_obs_hist.chunk(dict(lat=1, lon=1, time=-1))\n",
    "pr_sim_hist = pr_sim_hist.chunk(dict(lat=1, lon=1, time=-1))\n",
    "pr_sim_fut = pr_sim_fut.chunk(dict(lat=1, lon=1, time=-1))"
   ],
   "metadata": {
    "collapsed": false
   }
  },
  {
   "cell_type": "code",
   "execution_count": null,
   "outputs": [],
   "source": [
    "pr_obs_hist['pr'] = pr_obs_hist['pr'].transpose('lon', 'lat', 'time')\n",
    "pr_sim_hist['pr'] = pr_sim_hist['pr'].transpose('lon', 'lat', 'time')\n",
    "pr_sim_fut['pr'] = pr_sim_fut['pr'].transpose('lon', 'lat', 'time')"
   ],
   "metadata": {
    "collapsed": false
   }
  },
  {
   "cell_type": "code",
   "execution_count": null,
   "outputs": [],
   "source": [
    "params = basd.Parameters(lower_bound=0, lower_threshold=0.0000011574,\n",
    "                         trend_preservation='mixed',\n",
    "                         distribution='gamma',\n",
    "                         if_all_invalid_use=0, n_iterations=10)"
   ],
   "metadata": {
    "collapsed": false
   }
  },
  {
   "cell_type": "code",
   "execution_count": null,
   "outputs": [],
   "source": [
    "days, month_numbers, years = basd.time_scraping({'obs_hist': pr_obs_hist['pr'],\n",
    "                    'sim_hist': pr_sim_hist['pr'],\n",
    "                    'sim_fut': pr_sim_fut['pr']})"
   ],
   "metadata": {
    "collapsed": false
   }
  }
 ],
 "metadata": {
  "kernelspec": {
   "name": "python3",
   "language": "python",
   "display_name": "Python 3 (ipykernel)"
  },
  "language_info": {
   "codemirror_mode": {
    "name": "ipython",
    "version": 3
   },
   "file_extension": ".py",
   "mimetype": "text/x-python",
   "name": "python",
   "nbconvert_exporter": "python",
   "pygments_lexer": "ipython3",
   "version": "3.9.4"
  }
 },
 "nbformat": 4,
 "nbformat_minor": 5
}
