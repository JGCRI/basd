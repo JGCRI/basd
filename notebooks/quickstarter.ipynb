{
 "cells": [
  {
   "cell_type": "code",
   "execution_count": 1,
   "outputs": [],
   "source": [
    "import os\n",
    "import plotly.express as px\n",
    "\n",
    "import matplotlib.pyplot as plt\n",
    "\n",
    "import basd\n",
    "from matplotlib import pyplot\n",
    "import numpy as np\n",
    "import pandas as pd\n",
    "import rioxarray as rio\n",
    "import seaborn as sns\n",
    "import xarray as xr"
   ],
   "metadata": {
    "collapsed": false,
    "pycharm": {
     "name": "#%%\n"
    }
   }
  },
  {
   "cell_type": "markdown",
   "source": [
    "#### Reading NetCDF file\n",
    "Reading in observational precipitation data from 1979-2014 supplied in the data directory."
   ],
   "metadata": {
    "collapsed": false,
    "pycharm": {
     "name": "#%% md\n"
    }
   }
  },
  {
   "cell_type": "code",
   "execution_count": 2,
   "outputs": [],
   "source": [
    "pr_obs_hist = xr.open_dataset('../basd/data/pr_obs-hist_fine_1979-2014.nc')\n",
    "pr_sim_hist = xr.open_dataset('../basd/data/pr_sim-hist_coarse_1979-2014.nc')\n",
    "pr_sim_fut = xr.open_dataset('../basd/data/pr_sim-fut_coarse_2065-2100.nc')"
   ],
   "metadata": {
    "collapsed": false,
    "pycharm": {
     "name": "#%%\n"
    }
   }
  },
  {
   "cell_type": "markdown",
   "source": [
    "### Running Bias Adjustment\n",
    "#### Initializing our first `Adjustment` object\n",
    "Here we are providing the three required data arrays and a variable name 'pr' representing the daily mean precipitation variable. Precipitation is assumed to follow a gamma distribution, and thus requires a lower bound and lower threshold parameter. We also set trend preservation mode to be 'mixed'. Thus, we set the parameter object directly specifying:\n",
    "\n",
    "* Lower bound = 0\n",
    "* Lower threshold = 0.0000011574\n",
    "* Trend preservation = mixed\n",
    "* Distribution = gamma\n",
    "\n",
    "Otherwise, we are keeping the default parameter values for the bias adjustment."
   ],
   "metadata": {
    "collapsed": false,
    "pycharm": {
     "name": "#%% md\n"
    }
   }
  },
  {
   "cell_type": "code",
   "execution_count": 3,
   "outputs": [],
   "source": [
    "params = basd.Parameters(lower_bound=0, lower_threshold=0.0000011574,\n",
    "                         trend_preservation='mixed', distribution='gamma',\n",
    "                         if_all_invalid_use=0)\n",
    "ba = basd.Adjustment(pr_obs_hist, pr_sim_hist, pr_sim_fut,\n",
    "                     'pr', params, remap_grid=True )"
   ],
   "metadata": {
    "collapsed": false,
    "pycharm": {
     "name": "#%%\n"
    }
   }
  },
  {
   "cell_type": "markdown",
   "source": [
    "#### Running Bias Adjustment\n",
    "Here we run the bias adjustment for just one grid cell. We pass in a tuple with the indexes which we wish to adjust, (0,0), which in this case correspond to the coordinates 53.5 N, 12.5 E."
   ],
   "metadata": {
    "collapsed": false,
    "pycharm": {
     "name": "#%% md\n"
    }
   }
  },
  {
   "cell_type": "code",
   "execution_count": 4,
   "outputs": [],
   "source": [
    "loc = dict(lat=1, lon=1)\n",
    "sim_fut_ba_loc = ba.adjust_bias_one_location(loc)"
   ],
   "metadata": {
    "collapsed": false,
    "pycharm": {
     "name": "#%%\n"
    }
   }
  },
  {
   "cell_type": "code",
   "execution_count": 5,
   "outputs": [
    {
     "name": "stderr",
     "output_type": "stream",
     "text": [
      "[Parallel(n_jobs=-1)]: Using backend LokyBackend with 8 concurrent workers.\n",
      "[Parallel(n_jobs=-1)]: Done   1 tasks      | elapsed:    6.4s\n",
      "[Parallel(n_jobs=-1)]: Done   2 out of   4 | elapsed:    6.4s remaining:    6.4s\n",
      "[Parallel(n_jobs=-1)]: Done   4 out of   4 | elapsed:    6.5s remaining:    0.0s\n",
      "[Parallel(n_jobs=-1)]: Done   4 out of   4 | elapsed:    6.5s finished\n"
     ]
    }
   ],
   "source": [
    "pr_sim_fut_ba = ba.adjust_bias(n_jobs=-1)\n",
    "#ba.save_adjustment_nc('../../../Documents/pr_sim_fut_ba.nc')"
   ],
   "metadata": {
    "collapsed": false,
    "pycharm": {
     "name": "#%%\n"
    }
   }
  },
  {
   "cell_type": "markdown",
   "source": [
    "# Statistical Downscaling\n",
    "We're now going to start to look at downscaling simulated data to observational data resolution using the statistical downscaling algorithm."
   ],
   "metadata": {
    "collapsed": false,
    "pycharm": {
     "name": "#%% md\n"
    }
   }
  },
  {
   "cell_type": "code",
   "execution_count": 6,
   "outputs": [],
   "source": [
    "sd = basd.Downscaler(pr_obs_hist, pr_sim_fut_ba, 'pr', params)"
   ],
   "metadata": {
    "collapsed": false,
    "pycharm": {
     "name": "#%%\n"
    }
   }
  },
  {
   "cell_type": "markdown",
   "source": [
    "Latitude and longitude coordinate sequences for each of the input grids"
   ],
   "metadata": {
    "collapsed": false,
    "pycharm": {
     "name": "#%% md\n"
    }
   }
  },
  {
   "cell_type": "code",
   "execution_count": 11,
   "outputs": [],
   "source": [
    "fine_lats = sd.obs_fine.coords['lat'].values\n",
    "fine_lons = sd.obs_fine.coords['lon'].values\n",
    "coarse_lats = sd.sim_coarse.coords['lat'].values\n",
    "coarse_lons = sd.sim_coarse.coords['lon'].values"
   ],
   "metadata": {
    "collapsed": false,
    "pycharm": {
     "name": "#%%\n"
    }
   }
  },
  {
   "cell_type": "markdown",
   "source": [
    "Finding the downscaling factor. Make sure that the fine cells fit evenly in the coarse cells"
   ],
   "metadata": {
    "collapsed": false,
    "pycharm": {
     "name": "#%% md\n"
    }
   }
  },
  {
   "cell_type": "code",
   "execution_count": 22,
   "outputs": [],
   "source": [
    "assert len(fine_lats) % len(coarse_lats) == 0\n",
    "assert len(fine_lons) % len(coarse_lons) == 0\n",
    "f_lat = len(fine_lats) // len(coarse_lats)\n",
    "f_lon = len(fine_lons) // len(coarse_lons)\n",
    "assert f_lat > 1 or f_lon > 1, f'No downscaling needed. Observational grid provides no finer resolution'"
   ],
   "metadata": {
    "collapsed": false,
    "pycharm": {
     "name": "#%%\n"
    }
   }
  },
  {
   "cell_type": "markdown",
   "source": [
    "Sequence of gaps between coordinates. Assert that they are constant and given in the same direction."
   ],
   "metadata": {
    "collapsed": false,
    "pycharm": {
     "name": "#%% md\n"
    }
   }
  },
  {
   "cell_type": "code",
   "execution_count": 91,
   "outputs": [],
   "source": [
    "dx_lat = np.diff(coarse_lats)\n",
    "dy_lat = np.diff(fine_lats)\n",
    "assert (np.all(dx_lat > 0) and np.all(dy_lat > 0)) or (np.all(dx_lat < 0) and np.all(dy_lat < 0)), f'Latitude coords should be monotonic in the same direction'\n",
    "dx_lon = np.diff(coarse_lons)\n",
    "dy_lon = np.diff(fine_lons)\n",
    "assert (np.all(dx_lon > 0) and np.all(dy_lon > 0)) or (np.all(dx_lon < 0) and np.all(dy_lon < 0)), f'Longitude coords should be monotonic in the same direction'\n",
    "assert np.all(dx_lon == dx_lon[0]) and np.all(dy_lon == dy_lon[0]), f'Resolution should be constant for all longitude'\n",
    "assert np.all(dx_lat == dx_lat[0]) and np.all(dy_lat == dy_lat[0]), f'Resolution should be constant for all latitude'"
   ],
   "metadata": {
    "collapsed": false,
    "pycharm": {
     "name": "#%%\n"
    }
   }
  },
  {
   "cell_type": "markdown",
   "source": [
    "Whether longitude wraps around globe. Latitude of course does not work that way."
   ],
   "metadata": {
    "collapsed": false,
    "pycharm": {
     "name": "#%% md\n"
    }
   }
  },
  {
   "cell_type": "code",
   "execution_count": null,
   "outputs": [],
   "source": [
    "circular = {\n",
    "    'lat': False,\n",
    "    'lon': np.allclose(coarse_lons[0] - dx_lon[0] + 360 * np.sign(dx_lon[0]), coarse_lons[-1])\n",
    "}\n",
    "ascending = {\n",
    "    'lat': dx_lat[0] > 0,\n",
    "    'lon': dx_lon[0] > 0\n",
    "}\n",
    "scale_factors = {\n",
    "    'lat': f_lat,\n",
    "    'lon': f_lon\n",
    "}"
   ],
   "metadata": {
    "collapsed": false,
    "pycharm": {
     "name": "#%%\n",
     "is_executing": true
    }
   }
  },
  {
   "cell_type": "markdown",
   "source": [],
   "metadata": {
    "collapsed": false,
    "pycharm": {
     "name": "#%% md\n"
    }
   }
  },
  {
   "cell_type": "code",
   "execution_count": 97,
   "outputs": [],
   "source": [
    "shape = tuple([sd.obs_fine.coords['lat'].size, sd.obs_fine.coords['lon'].size])\n",
    "lats = sd.obs_fine.coords['lat'].values\n",
    "weight_by_lat = np.cos(np.deg2rad(lats))"
   ],
   "metadata": {
    "collapsed": false,
    "pycharm": {
     "name": "#%%\n"
    }
   }
  },
  {
   "cell_type": "code",
   "execution_count": 101,
   "outputs": [
    {
     "data": {
      "text/plain": "array([53.75, 53.25, 52.75, 52.25])"
     },
     "execution_count": 101,
     "metadata": {},
     "output_type": "execute_result"
    }
   ],
   "source": [
    "weight_by_lat\n",
    "lats"
   ],
   "metadata": {
    "collapsed": false,
    "pycharm": {
     "name": "#%%\n"
    }
   }
  }
 ],
 "metadata": {
  "kernelspec": {
   "name": "python3",
   "language": "python",
   "display_name": "Python 3 (ipykernel)"
  },
  "language_info": {
   "codemirror_mode": {
    "name": "ipython",
    "version": 3
   },
   "file_extension": ".py",
   "mimetype": "text/x-python",
   "name": "python",
   "nbconvert_exporter": "python",
   "pygments_lexer": "ipython3",
   "version": "3.9.4"
  }
 },
 "nbformat": 4,
 "nbformat_minor": 5
}