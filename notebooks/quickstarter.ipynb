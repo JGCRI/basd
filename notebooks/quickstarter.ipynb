{
 "cells": [
  {
   "cell_type": "code",
   "execution_count": 5,
   "outputs": [],
   "source": [
    "import os\n",
    "import plotly.express as px\n",
    "\n",
    "import matplotlib.pyplot as plt\n",
    "\n",
    "import basd\n",
    "from matplotlib import pyplot\n",
    "import numpy as np\n",
    "import pandas as pd\n",
    "import rioxarray as rio\n",
    "import seaborn as sns\n",
    "import xarray as xr"
   ],
   "metadata": {
    "collapsed": false,
    "pycharm": {
     "name": "#%%\n"
    }
   }
  },
  {
   "cell_type": "markdown",
   "source": [
    "#### Reading NetCDF file\n",
    "Reading in observational precipitation data from 1979-2014 supplied in the data directory."
   ],
   "metadata": {
    "collapsed": false,
    "pycharm": {
     "name": "#%% md\n"
    }
   }
  },
  {
   "cell_type": "code",
   "execution_count": 6,
   "outputs": [],
   "source": [
    "pr_obs_hist = xr.open_dataset('../basd/data/pr_obs-hist_fine_1979-2014.nc')\n",
    "pr_sim_hist = xr.open_dataset('../basd/data/pr_sim-hist_coarse_1979-2014.nc')\n",
    "pr_sim_fut = xr.open_dataset('../basd/data/pr_sim-fut_coarse_2065-2100.nc')"
   ],
   "metadata": {
    "collapsed": false,
    "pycharm": {
     "name": "#%%\n"
    }
   }
  },
  {
   "cell_type": "markdown",
   "source": [
    "### Running Bias Adjustment\n",
    "#### Initializing our first `Adjustment` object\n",
    "Here we are providing the three required data arrays and a variable name 'pr' representing the daily mean precipitation variable. Precipitation is assumed to follow a gamma distribution, and thus requires a lower bound and lower threshold parameter. We also set trend preservation mode to be 'mixed'. Thus, we set the parameter object directly specifying:\n",
    "\n",
    "* Lower bound = 0\n",
    "* Lower threshold = 0.0000011574\n",
    "* Trend preservation = mixed\n",
    "* Distribution = gamma\n",
    "\n",
    "Otherwise, we are keeping the default parameter values for the bias adjustment."
   ],
   "metadata": {
    "collapsed": false,
    "pycharm": {
     "name": "#%% md\n"
    }
   }
  },
  {
   "cell_type": "code",
   "execution_count": 7,
   "outputs": [],
   "source": [
    "params = basd.Parameters(lower_bound=0, lower_threshold=0.0000011574,\n",
    "                         trend_preservation='mixed', distribution='gamma',\n",
    "                         if_all_invalid_use=0)\n",
    "ba = basd.Adjustment(pr_obs_hist, pr_sim_hist, pr_sim_fut,\n",
    "                     'pr', params, remap_grid=True )"
   ],
   "metadata": {
    "collapsed": false,
    "pycharm": {
     "name": "#%%\n"
    }
   }
  },
  {
   "cell_type": "markdown",
   "source": [
    "#### Running Bias Adjustment\n",
    "Here we run the bias adjustment for just one grid cell. We pass in a tuple with the indexes which we wish to adjust, (0,0), which in this case correspond to the coordinates 53.5 N, 12.5 E."
   ],
   "metadata": {
    "collapsed": false,
    "pycharm": {
     "name": "#%% md\n"
    }
   }
  },
  {
   "cell_type": "code",
   "execution_count": 8,
   "outputs": [],
   "source": [
    "loc = dict(lat=1, lon=1)\n",
    "sim_fut_ba_loc = ba.adjust_bias_one_location(loc)"
   ],
   "metadata": {
    "collapsed": false,
    "pycharm": {
     "name": "#%%\n"
    }
   }
  },
  {
   "cell_type": "code",
   "execution_count": 9,
   "outputs": [
    {
     "name": "stderr",
     "output_type": "stream",
     "text": [
      "[Parallel(n_jobs=-1)]: Using backend LokyBackend with 8 concurrent workers.\n",
      "[Parallel(n_jobs=-1)]: Done   1 tasks      | elapsed:   11.5s\n",
      "[Parallel(n_jobs=-1)]: Done   2 out of   4 | elapsed:   11.6s remaining:   11.6s\n",
      "[Parallel(n_jobs=-1)]: Done   4 out of   4 | elapsed:   11.7s remaining:    0.0s\n",
      "[Parallel(n_jobs=-1)]: Done   4 out of   4 | elapsed:   11.7s finished\n"
     ]
    }
   ],
   "source": [
    "pr_sim_fut_ba = ba.adjust_bias(n_jobs=-1)\n",
    "#ba.save_adjustment_nc('../../../Documents/pr_sim_fut_ba.nc')"
   ],
   "metadata": {
    "collapsed": false,
    "pycharm": {
     "name": "#%%\n"
    }
   }
  },
  {
   "cell_type": "code",
   "execution_count": 13,
   "outputs": [
    {
     "data": {
      "text/plain": "array([6.4610385e-06, 2.3013397e-06, 1.0377765e-06, ..., 2.4182818e-06,\n       4.4520571e-06, 8.5363882e-07], dtype=float32)"
     },
     "execution_count": 13,
     "metadata": {},
     "output_type": "execute_result"
    }
   ],
   "source": [
    "pr_sim_fut['pr'][loc].to_numpy()"
   ],
   "metadata": {
    "collapsed": false,
    "pycharm": {
     "name": "#%%\n"
    }
   }
  },
  {
   "cell_type": "code",
   "execution_count": 12,
   "outputs": [
    {
     "data": {
      "text/plain": "array([2.3071223e-06, 0.0000000e+00, 0.0000000e+00, ..., 0.0000000e+00,\n       0.0000000e+00, 0.0000000e+00], dtype=float32)"
     },
     "execution_count": 12,
     "metadata": {},
     "output_type": "execute_result"
    }
   ],
   "source": [
    "pr_sim_fut_ba['pr'][loc].to_numpy()"
   ],
   "metadata": {
    "collapsed": false,
    "pycharm": {
     "name": "#%%\n"
    }
   }
  },
  {
   "cell_type": "code",
   "execution_count": 11,
   "outputs": [
    {
     "data": {
      "text/plain": "            time   lat   lon  spatial_ref            pr  \\\n0     2065-01-01  52.5  13.5            0  2.307122e-06   \n1     2065-01-02  52.5  13.5            0  0.000000e+00   \n2     2065-01-03  52.5  13.5            0  0.000000e+00   \n3     2065-01-04  52.5  13.5            0  2.959977e-05   \n4     2065-01-05  52.5  13.5            0  2.926566e-05   \n...          ...   ...   ...          ...           ...   \n52589 2014-12-27  52.5  13.5            0  2.245260e-07   \n52590 2014-12-28  52.5  13.5            0  3.433956e-05   \n52591 2014-12-29  52.5  13.5            0  8.525437e-05   \n52592 2014-12-30  52.5  13.5            0  2.469289e-05   \n52593 2014-12-31  52.5  13.5            0  9.454954e-06   \n\n                               Source  \n0      Simulated Future Bias Adjusted  \n1      Simulated Future Bias Adjusted  \n2      Simulated Future Bias Adjusted  \n3      Simulated Future Bias Adjusted  \n4      Simulated Future Bias Adjusted  \n...                               ...  \n52589            Simulated Historical  \n52590            Simulated Historical  \n52591            Simulated Historical  \n52592            Simulated Historical  \n52593            Simulated Historical  \n\n[52594 rows x 6 columns]",
      "text/html": "<div>\n<style scoped>\n    .dataframe tbody tr th:only-of-type {\n        vertical-align: middle;\n    }\n\n    .dataframe tbody tr th {\n        vertical-align: top;\n    }\n\n    .dataframe thead th {\n        text-align: right;\n    }\n</style>\n<table border=\"1\" class=\"dataframe\">\n  <thead>\n    <tr style=\"text-align: right;\">\n      <th></th>\n      <th>time</th>\n      <th>lat</th>\n      <th>lon</th>\n      <th>spatial_ref</th>\n      <th>pr</th>\n      <th>Source</th>\n    </tr>\n  </thead>\n  <tbody>\n    <tr>\n      <th>0</th>\n      <td>2065-01-01</td>\n      <td>52.5</td>\n      <td>13.5</td>\n      <td>0</td>\n      <td>2.307122e-06</td>\n      <td>Simulated Future Bias Adjusted</td>\n    </tr>\n    <tr>\n      <th>1</th>\n      <td>2065-01-02</td>\n      <td>52.5</td>\n      <td>13.5</td>\n      <td>0</td>\n      <td>0.000000e+00</td>\n      <td>Simulated Future Bias Adjusted</td>\n    </tr>\n    <tr>\n      <th>2</th>\n      <td>2065-01-03</td>\n      <td>52.5</td>\n      <td>13.5</td>\n      <td>0</td>\n      <td>0.000000e+00</td>\n      <td>Simulated Future Bias Adjusted</td>\n    </tr>\n    <tr>\n      <th>3</th>\n      <td>2065-01-04</td>\n      <td>52.5</td>\n      <td>13.5</td>\n      <td>0</td>\n      <td>2.959977e-05</td>\n      <td>Simulated Future Bias Adjusted</td>\n    </tr>\n    <tr>\n      <th>4</th>\n      <td>2065-01-05</td>\n      <td>52.5</td>\n      <td>13.5</td>\n      <td>0</td>\n      <td>2.926566e-05</td>\n      <td>Simulated Future Bias Adjusted</td>\n    </tr>\n    <tr>\n      <th>...</th>\n      <td>...</td>\n      <td>...</td>\n      <td>...</td>\n      <td>...</td>\n      <td>...</td>\n      <td>...</td>\n    </tr>\n    <tr>\n      <th>52589</th>\n      <td>2014-12-27</td>\n      <td>52.5</td>\n      <td>13.5</td>\n      <td>0</td>\n      <td>2.245260e-07</td>\n      <td>Simulated Historical</td>\n    </tr>\n    <tr>\n      <th>52590</th>\n      <td>2014-12-28</td>\n      <td>52.5</td>\n      <td>13.5</td>\n      <td>0</td>\n      <td>3.433956e-05</td>\n      <td>Simulated Historical</td>\n    </tr>\n    <tr>\n      <th>52591</th>\n      <td>2014-12-29</td>\n      <td>52.5</td>\n      <td>13.5</td>\n      <td>0</td>\n      <td>8.525437e-05</td>\n      <td>Simulated Historical</td>\n    </tr>\n    <tr>\n      <th>52592</th>\n      <td>2014-12-30</td>\n      <td>52.5</td>\n      <td>13.5</td>\n      <td>0</td>\n      <td>2.469289e-05</td>\n      <td>Simulated Historical</td>\n    </tr>\n    <tr>\n      <th>52593</th>\n      <td>2014-12-31</td>\n      <td>52.5</td>\n      <td>13.5</td>\n      <td>0</td>\n      <td>9.454954e-06</td>\n      <td>Simulated Historical</td>\n    </tr>\n  </tbody>\n</table>\n<p>52594 rows × 6 columns</p>\n</div>"
     },
     "execution_count": 11,
     "metadata": {},
     "output_type": "execute_result"
    }
   ],
   "source": [
    "sim_fut_ba_loc.time_series"
   ],
   "metadata": {
    "collapsed": false,
    "pycharm": {
     "name": "#%%\n"
    }
   }
  }
 ],
 "metadata": {
  "kernelspec": {
   "name": "python3",
   "language": "python",
   "display_name": "Python 3 (ipykernel)"
  },
  "language_info": {
   "codemirror_mode": {
    "name": "ipython",
    "version": 3
   },
   "file_extension": ".py",
   "mimetype": "text/x-python",
   "name": "python",
   "nbconvert_exporter": "python",
   "pygments_lexer": "ipython3",
   "version": "3.9.4"
  }
 },
 "nbformat": 4,
 "nbformat_minor": 5
}
