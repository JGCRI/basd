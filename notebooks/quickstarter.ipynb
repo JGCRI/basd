{
 "cells": [
  {
   "cell_type": "code",
   "execution_count": null,
   "outputs": [],
   "source": [
    "import os\n",
    "\n",
    "import basd\n",
    "from dask.distributed import Client\n",
    "from dask.distributed import LocalCluster\n",
    "import xarray as xr"
   ],
   "metadata": {
    "collapsed": false
   }
  },
  {
   "cell_type": "code",
   "execution_count": null,
   "outputs": [],
   "source": [
    "input_dir = '../basd/data'\n",
    "output_dir = '../basd/data/output'"
   ],
   "metadata": {
    "collapsed": false
   }
  },
  {
   "cell_type": "code",
   "execution_count": null,
   "outputs": [],
   "source": [
    "ba_output_file = 'pr_sim_fut_ba_coarse_2065-2100.nc'\n",
    "basd_output_file = 'pr_sim_fut_basd_fine_2065-2100.nc'"
   ],
   "metadata": {
    "collapsed": false
   }
  },
  {
   "cell_type": "markdown",
   "source": [
    "#### Reading NetCDF file\n",
    "Reading in observational precipitation data from 1979-2014 supplied in the data directory."
   ],
   "metadata": {
    "collapsed": false
   }
  },
  {
   "cell_type": "code",
   "execution_count": null,
   "outputs": [],
   "source": [
    "pr_obs_hist = xr.open_mfdataset(os.path.join(input_dir, 'pr_obs-hist_fine_1979-2014.nc'), chunks={'time': 100})\n",
    "pr_sim_hist = xr.open_mfdataset(os.path.join(input_dir, 'pr_sim-hist_coarse_1979-2014.nc'), chunks={'time': 100})\n",
    "pr_sim_fut = xr.open_mfdataset(os.path.join(input_dir, 'pr_sim-fut_coarse_2065-2100.nc'), chunks={'time': 100})"
   ],
   "metadata": {
    "collapsed": false
   }
  },
  {
   "cell_type": "markdown",
   "source": [
    "### Running Bias Adjustment\n",
    "#### Initializing our first `Adjustment` object\n",
    "Here we are providing the three required data arrays and a variable name 'pr' representing the daily mean precipitation variable. Precipitation is assumed to follow a gamma distribution, and thus requires a lower bound and lower threshold parameter. We also set trend preservation mode to be 'mixed'. Thus, we set the parameter object directly specifying:\n",
    "\n",
    "* Lower bound = 0\n",
    "* Lower threshold = 0.0000011574\n",
    "* Trend preservation = mixed\n",
    "* Distribution = gamma\n",
    "\n",
    "Otherwise, we are keeping the default parameter values for the bias adjustment."
   ],
   "metadata": {
    "collapsed": false
   }
  },
  {
   "cell_type": "code",
   "execution_count": null,
   "outputs": [],
   "source": [
    "params = basd.Parameters(lower_bound=0, lower_threshold=0.0000011574,\n",
    "                         trend_preservation='mixed',\n",
    "                         distribution='gamma',\n",
    "                         if_all_invalid_use=0, n_iterations=20)"
   ],
   "metadata": {
    "collapsed": false
   }
  },
  {
   "cell_type": "markdown",
   "source": [
    "#### Running Bias Adjustment\n",
    "Here we run the bias adjustment for just one grid cell. We pass in a tuple with the indexes which we wish to adjust, (0,0), which in this case correspond to the coordinates 53.5 N, 12.5 E."
   ],
   "metadata": {
    "collapsed": false
   }
  },
  {
   "cell_type": "code",
   "execution_count": null,
   "outputs": [],
   "source": [
    "with LocalCluster(processes=True, threads_per_worker=1) as cluster, Client(cluster) as client:\n",
    "    print(client.dashboard_link)\n",
    "    ba = basd.Adjustment(pr_obs_hist, pr_sim_hist, pr_sim_fut,\n",
    "                         'pr', params, remap_grid=True )\n",
    "    ba.adjust_bias(lat_chunk_size=1, lon_chunk_size=1,\n",
    "                   file=os.path.join(output_dir, ba_output_file))"
   ],
   "metadata": {
    "collapsed": false
   }
  },
  {
   "cell_type": "markdown",
   "source": [
    "# Statistical Downscaling\n",
    "We're now going to start to look at downscaling simulated data to observational data resolution using the statistical downscaling algorithm."
   ],
   "metadata": {
    "collapsed": false
   }
  },
  {
   "cell_type": "code",
   "execution_count": null,
   "outputs": [],
   "source": [
    "obs_fine = xr.open_mfdataset(os.path.join(input_dir, 'pr_obs-hist_fine_1979-2014.nc'), chunks={'time': 100})\n",
    "sim_coarse = xr.open_mfdataset(os.path.join(output_dir, ba_output_file), chunks={'time': 100})"
   ],
   "metadata": {
    "collapsed": false
   }
  },
  {
   "cell_type": "code",
   "execution_count": null,
   "outputs": [],
   "source": [
    "sd = basd.Downscaler(obs_fine, sim_coarse, 'pr', params)"
   ],
   "metadata": {
    "collapsed": false
   }
  },
  {
   "cell_type": "code",
   "execution_count": null,
   "outputs": [],
   "source": [
    "with LocalCluster(processes=True, threads_per_worker=1) as cluster, Client(cluster) as client:\n",
    "    print(client.dashboard_link)\n",
    "    sd = basd.Downscaler(obs_fine, sim_coarse, 'pr', params)\n",
    "    sd.downscale(lat_chunk_size=1, lon_chunk_size=1,\n",
    "                 file=os.path.join(output_dir, basd_output_file))"
   ],
   "metadata": {
    "collapsed": false
   }
  }
 ],
 "metadata": {
  "kernelspec": {
   "name": "python3",
   "language": "python",
   "display_name": "Python 3 (ipykernel)"
  },
  "language_info": {
   "codemirror_mode": {
    "name": "ipython",
    "version": 3
   },
   "file_extension": ".py",
   "mimetype": "text/x-python",
   "name": "python",
   "nbconvert_exporter": "python",
   "pygments_lexer": "ipython3",
   "version": "3.9.4"
  }
 },
 "nbformat": 4,
 "nbformat_minor": 5
}
